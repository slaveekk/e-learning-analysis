{
 "cells": [
  {
   "cell_type": "code",
   "execution_count": 1,
   "metadata": {},
   "outputs": [],
   "source": [
    "import pandas as pd\n",
    "import numpy as np\n",
    "import seaborn as sns\n",
    "import matplotlib.pyplot as plt\n",
    "\n",
    "%matplotlib inline"
   ]
  },
  {
   "cell_type": "code",
   "execution_count": 2,
   "metadata": {},
   "outputs": [],
   "source": [
    "courses_df = pd.read_csv('Data/courses.csv')"
   ]
  },
  {
   "cell_type": "code",
   "execution_count": 3,
   "metadata": {},
   "outputs": [],
   "source": [
    "student_assessment_df = pd.read_csv('Data/studentAssessment.csv')"
   ]
  },
  {
   "cell_type": "code",
   "execution_count": 4,
   "metadata": {},
   "outputs": [],
   "source": [
    "student_registration_df = pd.read_csv('Data/studentRegistration.csv')"
   ]
  },
  {
   "cell_type": "code",
   "execution_count": 5,
   "metadata": {},
   "outputs": [],
   "source": [
    "assessments_df = pd.read_csv('Data/assessments.csv')"
   ]
  },
  {
   "cell_type": "markdown",
   "metadata": {},
   "source": [
    "### Вывод из предварительного исследования: \n",
    "\n",
    "Курс -- уникальный предмет в границах одного семестра, на который в семестре зарегистрировалось больше 0 студентов, и у которого был проведен (или планировался) хотя бы один финальный экзамен."
   ]
  },
  {
   "cell_type": "markdown",
   "metadata": {},
   "source": [
    "собираем в датафрейм информацию о финальных экзаменах для каждого предмета в каждом семестре\n",
    "\n",
    "фильтруем только экзамены, группируем по семестру и предмету, считаем количество финальных экзаменов для каждого"
   ]
  },
  {
   "cell_type": "code",
   "execution_count": 7,
   "metadata": {},
   "outputs": [],
   "source": [
    "final_exams_df = assessments_df[assessments_df.assessment_type == 'Exam'] \\\n",
    "    .groupby(['code_module', 'code_presentation'], as_index=False) \\\n",
    "    .agg({'id_assessment': 'count'}) \\\n",
    "    .rename(columns={'id_assessment':'final_exams'})"
   ]
  },
  {
   "cell_type": "code",
   "execution_count": 8,
   "metadata": {},
   "outputs": [
    {
     "data": {
      "text/html": [
       "<div>\n",
       "<style scoped>\n",
       "    .dataframe tbody tr th:only-of-type {\n",
       "        vertical-align: middle;\n",
       "    }\n",
       "\n",
       "    .dataframe tbody tr th {\n",
       "        vertical-align: top;\n",
       "    }\n",
       "\n",
       "    .dataframe thead th {\n",
       "        text-align: right;\n",
       "    }\n",
       "</style>\n",
       "<table border=\"1\" class=\"dataframe\">\n",
       "  <thead>\n",
       "    <tr style=\"text-align: right;\">\n",
       "      <th></th>\n",
       "      <th>code_module</th>\n",
       "      <th>code_presentation</th>\n",
       "      <th>final_exams</th>\n",
       "    </tr>\n",
       "  </thead>\n",
       "  <tbody>\n",
       "    <tr>\n",
       "      <th>0</th>\n",
       "      <td>AAA</td>\n",
       "      <td>2013J</td>\n",
       "      <td>1</td>\n",
       "    </tr>\n",
       "    <tr>\n",
       "      <th>1</th>\n",
       "      <td>AAA</td>\n",
       "      <td>2014J</td>\n",
       "      <td>1</td>\n",
       "    </tr>\n",
       "    <tr>\n",
       "      <th>2</th>\n",
       "      <td>BBB</td>\n",
       "      <td>2013B</td>\n",
       "      <td>1</td>\n",
       "    </tr>\n",
       "    <tr>\n",
       "      <th>3</th>\n",
       "      <td>BBB</td>\n",
       "      <td>2013J</td>\n",
       "      <td>1</td>\n",
       "    </tr>\n",
       "    <tr>\n",
       "      <th>4</th>\n",
       "      <td>BBB</td>\n",
       "      <td>2014B</td>\n",
       "      <td>1</td>\n",
       "    </tr>\n",
       "  </tbody>\n",
       "</table>\n",
       "</div>"
      ],
      "text/plain": [
       "  code_module code_presentation  final_exams\n",
       "0         AAA             2013J            1\n",
       "1         AAA             2014J            1\n",
       "2         BBB             2013B            1\n",
       "3         BBB             2013J            1\n",
       "4         BBB             2014B            1"
      ]
     },
     "execution_count": 8,
     "metadata": {},
     "output_type": "execute_result"
    }
   ],
   "source": [
    "final_exams_df.head()"
   ]
  },
  {
   "cell_type": "markdown",
   "metadata": {},
   "source": [
    "собираем в датафрейм информацию о регистрации студентов на курсы\n",
    "\n",
    "группируем по семестру и предмету, считаем количество регистраций"
   ]
  },
  {
   "cell_type": "code",
   "execution_count": 9,
   "metadata": {},
   "outputs": [],
   "source": [
    "registered_students_df = student_registration_df.groupby(['code_module', 'code_presentation'], as_index=False) \\\n",
    "    .agg({'id_student': 'count'})  \\\n",
    "    .rename(columns={'id_student':'total_students_registered'})"
   ]
  },
  {
   "cell_type": "markdown",
   "metadata": {},
   "source": [
    "#### Cопоставляем информацию об экзаменах и регистрации, чтобы выделить полные курсы, увидеть их временные границы и распределение студентов."
   ]
  },
  {
   "cell_type": "code",
   "execution_count": 10,
   "metadata": {},
   "outputs": [],
   "source": [
    "main_course_info = final_exams_df.merge(registered_students_df, on=['code_module', 'code_presentation']) \\\n",
    "    .pivot(index='code_module', columns='code_presentation', values=['total_students_registered', 'final_exams']) \\\n",
    "    .fillna(0)"
   ]
  },
  {
   "cell_type": "code",
   "execution_count": 11,
   "metadata": {},
   "outputs": [
    {
     "data": {
      "text/html": [
       "<div>\n",
       "<style scoped>\n",
       "    .dataframe tbody tr th:only-of-type {\n",
       "        vertical-align: middle;\n",
       "    }\n",
       "\n",
       "    .dataframe tbody tr th {\n",
       "        vertical-align: top;\n",
       "    }\n",
       "\n",
       "    .dataframe thead tr th {\n",
       "        text-align: left;\n",
       "    }\n",
       "\n",
       "    .dataframe thead tr:last-of-type th {\n",
       "        text-align: right;\n",
       "    }\n",
       "</style>\n",
       "<table border=\"1\" class=\"dataframe\">\n",
       "  <thead>\n",
       "    <tr>\n",
       "      <th></th>\n",
       "      <th colspan=\"4\" halign=\"left\">total_students_registered</th>\n",
       "      <th colspan=\"4\" halign=\"left\">final_exams</th>\n",
       "    </tr>\n",
       "    <tr>\n",
       "      <th>code_presentation</th>\n",
       "      <th>2013B</th>\n",
       "      <th>2013J</th>\n",
       "      <th>2014B</th>\n",
       "      <th>2014J</th>\n",
       "      <th>2013B</th>\n",
       "      <th>2013J</th>\n",
       "      <th>2014B</th>\n",
       "      <th>2014J</th>\n",
       "    </tr>\n",
       "    <tr>\n",
       "      <th>code_module</th>\n",
       "      <th></th>\n",
       "      <th></th>\n",
       "      <th></th>\n",
       "      <th></th>\n",
       "      <th></th>\n",
       "      <th></th>\n",
       "      <th></th>\n",
       "      <th></th>\n",
       "    </tr>\n",
       "  </thead>\n",
       "  <tbody>\n",
       "    <tr>\n",
       "      <th>AAA</th>\n",
       "      <td>0.0</td>\n",
       "      <td>383.0</td>\n",
       "      <td>0.0</td>\n",
       "      <td>365.0</td>\n",
       "      <td>0.0</td>\n",
       "      <td>1.0</td>\n",
       "      <td>0.0</td>\n",
       "      <td>1.0</td>\n",
       "    </tr>\n",
       "    <tr>\n",
       "      <th>BBB</th>\n",
       "      <td>1767.0</td>\n",
       "      <td>2237.0</td>\n",
       "      <td>1613.0</td>\n",
       "      <td>2292.0</td>\n",
       "      <td>1.0</td>\n",
       "      <td>1.0</td>\n",
       "      <td>1.0</td>\n",
       "      <td>1.0</td>\n",
       "    </tr>\n",
       "    <tr>\n",
       "      <th>CCC</th>\n",
       "      <td>0.0</td>\n",
       "      <td>0.0</td>\n",
       "      <td>1936.0</td>\n",
       "      <td>2498.0</td>\n",
       "      <td>0.0</td>\n",
       "      <td>0.0</td>\n",
       "      <td>2.0</td>\n",
       "      <td>2.0</td>\n",
       "    </tr>\n",
       "    <tr>\n",
       "      <th>DDD</th>\n",
       "      <td>1303.0</td>\n",
       "      <td>1938.0</td>\n",
       "      <td>1228.0</td>\n",
       "      <td>1803.0</td>\n",
       "      <td>1.0</td>\n",
       "      <td>1.0</td>\n",
       "      <td>1.0</td>\n",
       "      <td>1.0</td>\n",
       "    </tr>\n",
       "    <tr>\n",
       "      <th>EEE</th>\n",
       "      <td>0.0</td>\n",
       "      <td>1052.0</td>\n",
       "      <td>694.0</td>\n",
       "      <td>1188.0</td>\n",
       "      <td>0.0</td>\n",
       "      <td>1.0</td>\n",
       "      <td>1.0</td>\n",
       "      <td>1.0</td>\n",
       "    </tr>\n",
       "    <tr>\n",
       "      <th>FFF</th>\n",
       "      <td>1614.0</td>\n",
       "      <td>2283.0</td>\n",
       "      <td>1500.0</td>\n",
       "      <td>2365.0</td>\n",
       "      <td>1.0</td>\n",
       "      <td>1.0</td>\n",
       "      <td>1.0</td>\n",
       "      <td>1.0</td>\n",
       "    </tr>\n",
       "    <tr>\n",
       "      <th>GGG</th>\n",
       "      <td>0.0</td>\n",
       "      <td>952.0</td>\n",
       "      <td>833.0</td>\n",
       "      <td>749.0</td>\n",
       "      <td>0.0</td>\n",
       "      <td>1.0</td>\n",
       "      <td>1.0</td>\n",
       "      <td>1.0</td>\n",
       "    </tr>\n",
       "  </tbody>\n",
       "</table>\n",
       "</div>"
      ],
      "text/plain": [
       "                  total_students_registered                          \\\n",
       "code_presentation                     2013B   2013J   2014B   2014J   \n",
       "code_module                                                           \n",
       "AAA                                     0.0   383.0     0.0   365.0   \n",
       "BBB                                  1767.0  2237.0  1613.0  2292.0   \n",
       "CCC                                     0.0     0.0  1936.0  2498.0   \n",
       "DDD                                  1303.0  1938.0  1228.0  1803.0   \n",
       "EEE                                     0.0  1052.0   694.0  1188.0   \n",
       "FFF                                  1614.0  2283.0  1500.0  2365.0   \n",
       "GGG                                     0.0   952.0   833.0   749.0   \n",
       "\n",
       "                  final_exams                    \n",
       "code_presentation       2013B 2013J 2014B 2014J  \n",
       "code_module                                      \n",
       "AAA                       0.0   1.0   0.0   1.0  \n",
       "BBB                       1.0   1.0   1.0   1.0  \n",
       "CCC                       0.0   0.0   2.0   2.0  \n",
       "DDD                       1.0   1.0   1.0   1.0  \n",
       "EEE                       0.0   1.0   1.0   1.0  \n",
       "FFF                       1.0   1.0   1.0   1.0  \n",
       "GGG                       0.0   1.0   1.0   1.0  "
      ]
     },
     "execution_count": 11,
     "metadata": {},
     "output_type": "execute_result"
    }
   ],
   "source": [
    "main_course_info"
   ]
  },
  {
   "cell_type": "markdown",
   "metadata": {},
   "source": [
    "### 1. Сколько студентов успешно сдали только один курс?\n",
    "\n",
    "3774 выбравших один экзамен и сдавших его, 28 сдавших один из нескольких выбранных"
   ]
  },
  {
   "cell_type": "markdown",
   "metadata": {},
   "source": [
    "#### Cобираем информацию об экзаменах, курсах и оценках в один датафрейм, склеиваем по id теста, так как он будет постоянным в обоих датафреймах"
   ]
  },
  {
   "cell_type": "code",
   "execution_count": 13,
   "metadata": {},
   "outputs": [],
   "source": [
    "submitted_tests_data = assessments_df.merge(student_assessment_df, on='id_assessment')"
   ]
  },
  {
   "cell_type": "markdown",
   "metadata": {},
   "source": [
    "заводим новую колонку \"сдано\" на основе баллов, чтобы было удобнее видеть завершаемость"
   ]
  },
  {
   "cell_type": "code",
   "execution_count": 14,
   "metadata": {},
   "outputs": [],
   "source": [
    "submitted_tests_data['passed'] = np.where(submitted_tests_data.score >= 40, 1, 0)"
   ]
  },
  {
   "cell_type": "markdown",
   "metadata": {},
   "source": [
    "делаем отдельный дф для удобства дальнейшей работы (и сокращения повторений в коде)\n",
    "\n",
    "отбираем только экзамены, группируем по студентам, для каждого считаем кол-во всех экзаменов и кол-во успешных"
   ]
  },
  {
   "cell_type": "code",
   "execution_count": 15,
   "metadata": {},
   "outputs": [],
   "source": [
    "final_exams_by_student = submitted_tests_data.query('assessment_type == \"Exam\"') \\\n",
    "    .groupby('id_student', as_index=False) \\\n",
    "    .agg({'id_assessment' : 'count', 'passed' : 'sum'})"
   ]
  },
  {
   "cell_type": "markdown",
   "metadata": {},
   "source": [
    "считаем число студентов, сдавших только один курс (должен быть всего один экзамен, и он должен быть пройден)"
   ]
  },
  {
   "cell_type": "code",
   "execution_count": 16,
   "metadata": {},
   "outputs": [
    {
     "data": {
      "text/plain": [
       "3774"
      ]
     },
     "execution_count": 16,
     "metadata": {},
     "output_type": "execute_result"
    }
   ],
   "source": [
    "only_one_exam_passed = final_exams_by_student.query('id_assessment == 1 & passed == 1').id_student.count()\n",
    "\n",
    "only_one_exam_passed"
   ]
  },
  {
   "cell_type": "markdown",
   "metadata": {},
   "source": [
    "дополнительно считаем число студентов, сдавших один курс из нескольких пройденных\n",
    "(должно быть более одного экзамена, из них должен быть пройден только один)"
   ]
  },
  {
   "cell_type": "code",
   "execution_count": 17,
   "metadata": {},
   "outputs": [
    {
     "data": {
      "text/plain": [
       "28"
      ]
     },
     "execution_count": 17,
     "metadata": {},
     "output_type": "execute_result"
    }
   ],
   "source": [
    "one_of_several_exams_passed = final_exams_by_student.query('id_assessment > 1 & passed == 1').id_student.count()\n",
    "\n",
    "one_of_several_exams_passed"
   ]
  },
  {
   "cell_type": "markdown",
   "metadata": {},
   "source": [
    "### ОТСТУПЛЕНИЕ\n",
    "\n",
    " в ходе просмотра полных данных о заданиях выяснилось, что у некоторых тестов вес равняется нулю.\n",
    " чтобы увидеть больше информации, находим такие тесты, группируем по семестру, курсу и тесту,\n",
    " и смотрим на кол-во попыток сдачи, количество перезачетов и среднюю оценку.\n",
    " заметно, что такое происходит систематически в рамках курсов FFF и GGG (и один раз в BBB),  \n",
    " нет корреляции с перезачетами, и что оценки и попытки сдачи логируются нормально.\n",
    "можно сделать вывод, что в курсах задуманы дополнительные задания, не влияющие на итоговую оценку. "
   ]
  },
  {
   "cell_type": "code",
   "execution_count": 18,
   "metadata": {},
   "outputs": [
    {
     "data": {
      "text/html": [
       "<div>\n",
       "<style scoped>\n",
       "    .dataframe tbody tr th:only-of-type {\n",
       "        vertical-align: middle;\n",
       "    }\n",
       "\n",
       "    .dataframe tbody tr th {\n",
       "        vertical-align: top;\n",
       "    }\n",
       "\n",
       "    .dataframe thead th {\n",
       "        text-align: right;\n",
       "    }\n",
       "</style>\n",
       "<table border=\"1\" class=\"dataframe\">\n",
       "  <thead>\n",
       "    <tr style=\"text-align: right;\">\n",
       "      <th></th>\n",
       "      <th>code_module</th>\n",
       "      <th>code_presentation</th>\n",
       "      <th>assessment_type</th>\n",
       "      <th>id_assessment</th>\n",
       "      <th>weight</th>\n",
       "      <th>id_student</th>\n",
       "      <th>score</th>\n",
       "      <th>is_banked</th>\n",
       "    </tr>\n",
       "  </thead>\n",
       "  <tbody>\n",
       "    <tr>\n",
       "      <th>0</th>\n",
       "      <td>BBB</td>\n",
       "      <td>2014J</td>\n",
       "      <td>TMA</td>\n",
       "      <td>15020</td>\n",
       "      <td>0.0</td>\n",
       "      <td>1776</td>\n",
       "      <td>58.87</td>\n",
       "      <td>0</td>\n",
       "    </tr>\n",
       "    <tr>\n",
       "      <th>1</th>\n",
       "      <td>FFF</td>\n",
       "      <td>2013B</td>\n",
       "      <td>CMA</td>\n",
       "      <td>34865</td>\n",
       "      <td>0.0</td>\n",
       "      <td>1091</td>\n",
       "      <td>83.13</td>\n",
       "      <td>1</td>\n",
       "    </tr>\n",
       "    <tr>\n",
       "      <th>2</th>\n",
       "      <td>FFF</td>\n",
       "      <td>2013B</td>\n",
       "      <td>CMA</td>\n",
       "      <td>34866</td>\n",
       "      <td>0.0</td>\n",
       "      <td>1016</td>\n",
       "      <td>87.73</td>\n",
       "      <td>0</td>\n",
       "    </tr>\n",
       "    <tr>\n",
       "      <th>3</th>\n",
       "      <td>FFF</td>\n",
       "      <td>2013B</td>\n",
       "      <td>CMA</td>\n",
       "      <td>34867</td>\n",
       "      <td>0.0</td>\n",
       "      <td>952</td>\n",
       "      <td>76.64</td>\n",
       "      <td>0</td>\n",
       "    </tr>\n",
       "    <tr>\n",
       "      <th>4</th>\n",
       "      <td>FFF</td>\n",
       "      <td>2013B</td>\n",
       "      <td>CMA</td>\n",
       "      <td>34868</td>\n",
       "      <td>0.0</td>\n",
       "      <td>922</td>\n",
       "      <td>78.37</td>\n",
       "      <td>0</td>\n",
       "    </tr>\n",
       "  </tbody>\n",
       "</table>\n",
       "</div>"
      ],
      "text/plain": [
       "  code_module code_presentation assessment_type  id_assessment  weight  \\\n",
       "0         BBB             2014J             TMA          15020     0.0   \n",
       "1         FFF             2013B             CMA          34865     0.0   \n",
       "2         FFF             2013B             CMA          34866     0.0   \n",
       "3         FFF             2013B             CMA          34867     0.0   \n",
       "4         FFF             2013B             CMA          34868     0.0   \n",
       "\n",
       "   id_student  score  is_banked  \n",
       "0        1776  58.87          0  \n",
       "1        1091  83.13          1  \n",
       "2        1016  87.73          0  \n",
       "3         952  76.64          0  \n",
       "4         922  78.37          0  "
      ]
     },
     "execution_count": 18,
     "metadata": {},
     "output_type": "execute_result"
    }
   ],
   "source": [
    "submitted_tests_data.query('weight == 0') \\\n",
    "    .groupby(['code_module', 'code_presentation', 'assessment_type', 'id_assessment'], as_index=False) \\\n",
    "    .agg({\n",
    "        'weight' : 'sum', \n",
    "        'id_student' : 'count', \n",
    "        'score' : lambda x: round(x.mean(), 2),\n",
    "        'is_banked' : 'sum'\n",
    "        }) \\\n",
    "     .head()"
   ]
  },
  {
   "cell_type": "code",
   "execution_count": null,
   "metadata": {},
   "outputs": [],
   "source": []
  },
  {
   "cell_type": "markdown",
   "metadata": {},
   "source": [
    "### 2. Выявить самый сложный и самый простой экзамен: найти курсы и экзамены в рамках курса, которые обладают самой низкой и самой высокой завершаемостью"
   ]
  },
  {
   "cell_type": "markdown",
   "metadata": {},
   "source": [
    "#### подход 1: рассматриваем все тесты (включая экзамены, TMA и CMA)\n",
    "\n",
    "id тестов с самой высокой завершаемостью (completion_rate = 1):\n",
    "\n",
    "34879 (курс FFF поток 2013J); 34892, 34896 (курс FFF поток 2014B); \n",
    "34907 (курс FFF поток 2014J); 37429 (курс GGG поток 2014B) \n",
    "\n",
    "id тестов с самой низкой завершаемостью (completion_rate = 0.59) -- 15020 (курс BBB поток 2014J)"
   ]
  },
  {
   "cell_type": "markdown",
   "metadata": {},
   "source": [
    "оставляем только нужную информацию и считаем кол-во попыток сдать экзамен"
   ]
  },
  {
   "cell_type": "code",
   "execution_count": 21,
   "metadata": {},
   "outputs": [],
   "source": [
    "all_tests_comp = submitted_tests_data.groupby(\n",
    "        ['code_module', 'code_presentation', 'id_assessment'], as_index=False) \\\n",
    "    .agg({'score':'count'}) \\\n",
    "    .rename(columns={'score':'tests_taken'})"
   ]
  },
  {
   "cell_type": "markdown",
   "metadata": {},
   "source": [
    "считаем кол-во успешно сданных экзаменов"
   ]
  },
  {
   "cell_type": "code",
   "execution_count": 22,
   "metadata": {},
   "outputs": [],
   "source": [
    "all_tests_comp['tests_passed'] = submitted_tests_data.query('score >= 40') \\\n",
    "                                    .groupby(['code_module', 'code_presentation', 'id_assessment'], as_index=False) \\\n",
    "                                    .agg({'score':'count'}) \\\n",
    "                                    .score"
   ]
  },
  {
   "cell_type": "markdown",
   "metadata": {},
   "source": [
    "считаем коэффициент завершаемости"
   ]
  },
  {
   "cell_type": "code",
   "execution_count": 23,
   "metadata": {},
   "outputs": [],
   "source": [
    "all_tests_comp['completion_rate'] = all_tests_comp.tests_passed / all_tests_comp.tests_taken"
   ]
  },
  {
   "cell_type": "code",
   "execution_count": 24,
   "metadata": {},
   "outputs": [
    {
     "data": {
      "text/html": [
       "<div>\n",
       "<style scoped>\n",
       "    .dataframe tbody tr th:only-of-type {\n",
       "        vertical-align: middle;\n",
       "    }\n",
       "\n",
       "    .dataframe tbody tr th {\n",
       "        vertical-align: top;\n",
       "    }\n",
       "\n",
       "    .dataframe thead th {\n",
       "        text-align: right;\n",
       "    }\n",
       "</style>\n",
       "<table border=\"1\" class=\"dataframe\">\n",
       "  <thead>\n",
       "    <tr style=\"text-align: right;\">\n",
       "      <th></th>\n",
       "      <th>code_module</th>\n",
       "      <th>code_presentation</th>\n",
       "      <th>id_assessment</th>\n",
       "      <th>tests_taken</th>\n",
       "      <th>tests_passed</th>\n",
       "      <th>completion_rate</th>\n",
       "    </tr>\n",
       "  </thead>\n",
       "  <tbody>\n",
       "    <tr>\n",
       "      <th>131</th>\n",
       "      <td>FFF</td>\n",
       "      <td>2013J</td>\n",
       "      <td>34879</td>\n",
       "      <td>1352</td>\n",
       "      <td>1352</td>\n",
       "      <td>1.0</td>\n",
       "    </tr>\n",
       "    <tr>\n",
       "      <th>143</th>\n",
       "      <td>FFF</td>\n",
       "      <td>2014B</td>\n",
       "      <td>34892</td>\n",
       "      <td>857</td>\n",
       "      <td>857</td>\n",
       "      <td>1.0</td>\n",
       "    </tr>\n",
       "    <tr>\n",
       "      <th>147</th>\n",
       "      <td>FFF</td>\n",
       "      <td>2014B</td>\n",
       "      <td>34896</td>\n",
       "      <td>747</td>\n",
       "      <td>747</td>\n",
       "      <td>1.0</td>\n",
       "    </tr>\n",
       "    <tr>\n",
       "      <th>157</th>\n",
       "      <td>FFF</td>\n",
       "      <td>2014J</td>\n",
       "      <td>34907</td>\n",
       "      <td>1234</td>\n",
       "      <td>1234</td>\n",
       "      <td>1.0</td>\n",
       "    </tr>\n",
       "    <tr>\n",
       "      <th>174</th>\n",
       "      <td>GGG</td>\n",
       "      <td>2014B</td>\n",
       "      <td>37429</td>\n",
       "      <td>559</td>\n",
       "      <td>559</td>\n",
       "      <td>1.0</td>\n",
       "    </tr>\n",
       "  </tbody>\n",
       "</table>\n",
       "</div>"
      ],
      "text/plain": [
       "    code_module code_presentation  id_assessment  tests_taken  tests_passed  \\\n",
       "131         FFF             2013J          34879         1352          1352   \n",
       "143         FFF             2014B          34892          857           857   \n",
       "147         FFF             2014B          34896          747           747   \n",
       "157         FFF             2014J          34907         1234          1234   \n",
       "174         GGG             2014B          37429          559           559   \n",
       "\n",
       "     completion_rate  \n",
       "131              1.0  \n",
       "143              1.0  \n",
       "147              1.0  \n",
       "157              1.0  \n",
       "174              1.0  "
      ]
     },
     "execution_count": 24,
     "metadata": {},
     "output_type": "execute_result"
    }
   ],
   "source": [
    "t_max_completion = all_tests_comp[all_tests_comp.completion_rate == all_tests_comp.completion_rate.max()]\n",
    "t_max_completion"
   ]
  },
  {
   "cell_type": "code",
   "execution_count": 25,
   "metadata": {},
   "outputs": [
    {
     "data": {
      "text/html": [
       "<div>\n",
       "<style scoped>\n",
       "    .dataframe tbody tr th:only-of-type {\n",
       "        vertical-align: middle;\n",
       "    }\n",
       "\n",
       "    .dataframe tbody tr th {\n",
       "        vertical-align: top;\n",
       "    }\n",
       "\n",
       "    .dataframe thead th {\n",
       "        text-align: right;\n",
       "    }\n",
       "</style>\n",
       "<table border=\"1\" class=\"dataframe\">\n",
       "  <thead>\n",
       "    <tr style=\"text-align: right;\">\n",
       "      <th></th>\n",
       "      <th>code_module</th>\n",
       "      <th>code_presentation</th>\n",
       "      <th>id_assessment</th>\n",
       "      <th>tests_taken</th>\n",
       "      <th>tests_passed</th>\n",
       "      <th>completion_rate</th>\n",
       "    </tr>\n",
       "  </thead>\n",
       "  <tbody>\n",
       "    <tr>\n",
       "      <th>43</th>\n",
       "      <td>BBB</td>\n",
       "      <td>2014J</td>\n",
       "      <td>15020</td>\n",
       "      <td>1772</td>\n",
       "      <td>1040</td>\n",
       "      <td>0.586907</td>\n",
       "    </tr>\n",
       "  </tbody>\n",
       "</table>\n",
       "</div>"
      ],
      "text/plain": [
       "   code_module code_presentation  id_assessment  tests_taken  tests_passed  \\\n",
       "43         BBB             2014J          15020         1772          1040   \n",
       "\n",
       "    completion_rate  \n",
       "43         0.586907  "
      ]
     },
     "execution_count": 25,
     "metadata": {},
     "output_type": "execute_result"
    }
   ],
   "source": [
    "t_min_completion = all_tests_comp[all_tests_comp.completion_rate == all_tests_comp.completion_rate.min()]\n",
    "t_min_completion"
   ]
  },
  {
   "cell_type": "markdown",
   "metadata": {},
   "source": [
    "#### подход 2: рассматриваем только финальные экзамены\n",
    "\n",
    "порядок действий идентичен первому подходу, изменяется только тип рассматриваемого теста\n",
    "\n",
    "Стоит заметить, что для всех курсов, кроме CCC и DDD, нет финальных экзаменов, присланных на оценку, \n",
    " хотя в данных о планируемых экзаменах они присутствуют. Предполагаю, что они либо просто не были залогированы,\n",
    " либо были отменены (что менее вероятно). В любом случае невозможно узнать их завершаемость.\n",
    "\n",
    " - id экзамена с самой высокой завершаемостью (completion_rate == 0.93) -- 25361 (курс DDD поток 2014B)\n",
    " - id экзамена с самой низкой завершаемостью (completion_rate == 0.84) -- 25340 (курс DDD поток 2013B)"
   ]
  },
  {
   "cell_type": "code",
   "execution_count": 27,
   "metadata": {},
   "outputs": [],
   "source": [
    "final_exams_comp = submitted_tests_data.query('assessment_type == \"Exam\"') \\\n",
    "    .groupby(['code_module', 'code_presentation', 'id_assessment'], as_index=False) \\\n",
    "    .agg({'score':'count'}) \\\n",
    "    .rename(columns={'score':'exams_taken'})"
   ]
  },
  {
   "cell_type": "code",
   "execution_count": 28,
   "metadata": {},
   "outputs": [],
   "source": [
    "final_exams_comp['exams_passed'] = submitted_tests_data.query('assessment_type == \"Exam\" & score >= 40') \\\n",
    "                                    .groupby(['code_module', 'code_presentation', 'id_assessment'], as_index=False) \\\n",
    "                                    .agg({'score':'count'}) \\\n",
    "                                    .score"
   ]
  },
  {
   "cell_type": "code",
   "execution_count": 29,
   "metadata": {},
   "outputs": [],
   "source": [
    "final_exams_comp = final_exams_comp.assign(\n",
    "    completion_rate = final_exams_comp.exams_passed / final_exams_comp.exams_taken\n",
    "    )"
   ]
  },
  {
   "cell_type": "code",
   "execution_count": 30,
   "metadata": {},
   "outputs": [
    {
     "data": {
      "text/html": [
       "<div>\n",
       "<style scoped>\n",
       "    .dataframe tbody tr th:only-of-type {\n",
       "        vertical-align: middle;\n",
       "    }\n",
       "\n",
       "    .dataframe tbody tr th {\n",
       "        vertical-align: top;\n",
       "    }\n",
       "\n",
       "    .dataframe thead th {\n",
       "        text-align: right;\n",
       "    }\n",
       "</style>\n",
       "<table border=\"1\" class=\"dataframe\">\n",
       "  <thead>\n",
       "    <tr style=\"text-align: right;\">\n",
       "      <th></th>\n",
       "      <th>code_module</th>\n",
       "      <th>code_presentation</th>\n",
       "      <th>id_assessment</th>\n",
       "      <th>exams_taken</th>\n",
       "      <th>exams_passed</th>\n",
       "      <th>completion_rate</th>\n",
       "    </tr>\n",
       "  </thead>\n",
       "  <tbody>\n",
       "    <tr>\n",
       "      <th>4</th>\n",
       "      <td>DDD</td>\n",
       "      <td>2014B</td>\n",
       "      <td>25361</td>\n",
       "      <td>524</td>\n",
       "      <td>485</td>\n",
       "      <td>0.925573</td>\n",
       "    </tr>\n",
       "  </tbody>\n",
       "</table>\n",
       "</div>"
      ],
      "text/plain": [
       "  code_module code_presentation  id_assessment  exams_taken  exams_passed  \\\n",
       "4         DDD             2014B          25361          524           485   \n",
       "\n",
       "   completion_rate  \n",
       "4         0.925573  "
      ]
     },
     "execution_count": 30,
     "metadata": {},
     "output_type": "execute_result"
    }
   ],
   "source": [
    "ex_max_completion = final_exams_comp[final_exams_comp.completion_rate == final_exams_comp.completion_rate.max()]\n",
    "ex_max_completion"
   ]
  },
  {
   "cell_type": "code",
   "execution_count": 31,
   "metadata": {},
   "outputs": [
    {
     "data": {
      "text/html": [
       "<div>\n",
       "<style scoped>\n",
       "    .dataframe tbody tr th:only-of-type {\n",
       "        vertical-align: middle;\n",
       "    }\n",
       "\n",
       "    .dataframe tbody tr th {\n",
       "        vertical-align: top;\n",
       "    }\n",
       "\n",
       "    .dataframe thead th {\n",
       "        text-align: right;\n",
       "    }\n",
       "</style>\n",
       "<table border=\"1\" class=\"dataframe\">\n",
       "  <thead>\n",
       "    <tr style=\"text-align: right;\">\n",
       "      <th></th>\n",
       "      <th>code_module</th>\n",
       "      <th>code_presentation</th>\n",
       "      <th>id_assessment</th>\n",
       "      <th>exams_taken</th>\n",
       "      <th>exams_passed</th>\n",
       "      <th>completion_rate</th>\n",
       "    </tr>\n",
       "  </thead>\n",
       "  <tbody>\n",
       "    <tr>\n",
       "      <th>2</th>\n",
       "      <td>DDD</td>\n",
       "      <td>2013B</td>\n",
       "      <td>25340</td>\n",
       "      <td>602</td>\n",
       "      <td>504</td>\n",
       "      <td>0.837209</td>\n",
       "    </tr>\n",
       "  </tbody>\n",
       "</table>\n",
       "</div>"
      ],
      "text/plain": [
       "  code_module code_presentation  id_assessment  exams_taken  exams_passed  \\\n",
       "2         DDD             2013B          25340          602           504   \n",
       "\n",
       "   completion_rate  \n",
       "2         0.837209  "
      ]
     },
     "execution_count": 31,
     "metadata": {},
     "output_type": "execute_result"
    }
   ],
   "source": [
    "ex_min_completion = final_exams_comp[final_exams_comp.completion_rate == final_exams_comp.completion_rate.min()]\n",
    "ex_min_completion"
   ]
  },
  {
   "cell_type": "code",
   "execution_count": null,
   "metadata": {},
   "outputs": [],
   "source": []
  },
  {
   "cell_type": "markdown",
   "metadata": {},
   "source": [
    "### 3. По каждому предмету определить средний срок сдачи экзаменов (под сдачей понимаем последнее успешное прохождение экзамена студентом)\n",
    "\n",
    "#### текущие оценки:\n",
    "- ААА: TMA -- 115, в среднем сдано позже дедлайна\n",
    "- BBB: CMA -- 127, в среднем сдано позже дедлайна; TMA -- 105, в среднем сдано до дедлайна\n",
    "- CCC: CMA -- 112, в среднем сдано позже дедлайна; TMA -- 123, в среднем сдано до дедлайна\n",
    "- DDD: CMA -- 116, в среднем сдано позже дедлайна; TMA -- 103, в среднем сдано до дедлайна\n",
    "- FFF: CMA -- 160, в среднем сдано до дедлайна; TMA -- 94, в среднем сдано до дедлайна\n",
    "- GGG: CMA -- 180, в среднем сдано до дедлайна; TMA -- 116, в среднем сдано до дедлайна\n",
    "\n",
    "#### финальные экзамены:\n",
    "- CCC -- 238\n",
    "- DDD -- 237"
   ]
  },
  {
   "cell_type": "markdown",
   "metadata": {},
   "source": [
    "для начала узнаем разницу между окончательной датой сдачи теста и фактической датой сдачи.\n",
    "для перезачетов по умолчанию ставим разницу 0, в вычислениях среднего их учитывать не будем"
   ]
  },
  {
   "cell_type": "code",
   "execution_count": 33,
   "metadata": {},
   "outputs": [],
   "source": [
    "submitted_tests_data.loc[submitted_tests_data.is_banked == 0, 'date_delta'] = \\\n",
    "    submitted_tests_data.date_submitted - submitted_tests_data.date\n",
    "submitted_tests_data.loc[submitted_tests_data.is_banked == 1, 'date_delta'] = 0"
   ]
  },
  {
   "cell_type": "markdown",
   "metadata": {},
   "source": [
    "важно уточнить, что работы, отправленные после дедлайна, зачитываются так же,\n",
    "как отправленные в срок (без минуса к оценке). доказательство:"
   ]
  },
  {
   "cell_type": "code",
   "execution_count": 34,
   "metadata": {},
   "outputs": [
    {
     "data": {
      "text/plain": [
       "100.0"
      ]
     },
     "execution_count": 34,
     "metadata": {},
     "output_type": "execute_result"
    }
   ],
   "source": [
    "submitted_tests_data.query('assessment_type != \"Exam\" & is_banked == 0 & date_delta > 0') \\\n",
    "    .score.max()"
   ]
  },
  {
   "cell_type": "markdown",
   "metadata": {},
   "source": [
    "так как для финальных экзаменов дата сдачи NaN, их стоит рассмотреть отдельно, сначала рассмотрим текущие тесты\n",
    "\n",
    "1. отбираем успешно сданные текущие тесты без перезачетов\n",
    "2. делаем разбивку по предмету, типу теста и отдельным тестам, для каждого считаем среднюю дату прохождения и отклонение от окончательной даты сдачи\n",
    "3. делаем более широкую разбивку по предмету и типу теста, считаем те же показатели"
   ]
  },
  {
   "cell_type": "code",
   "execution_count": 35,
   "metadata": {},
   "outputs": [],
   "source": [
    "submit_dates_data = submitted_tests_data.query('score >= 40 & assessment_type != \"Exam\" & is_banked == 0') \\\n",
    "    .groupby(['code_module', 'assessment_type', 'id_assessment'], as_index=False) \\\n",
    "    .agg({'date_submitted': 'mean', 'date_delta': 'mean'}) \\\n",
    "    .groupby(['code_module', 'assessment_type'], as_index=False) \\\n",
    "    .agg({'date_submitted': 'mean', 'date_delta': 'mean'}) \\\n",
    "    .rename(columns={'date_submitted': 'date_submitted_mean', 'date_delta':'date_delta_mean'})"
   ]
  },
  {
   "cell_type": "markdown",
   "metadata": {},
   "source": [
    "1. отбираем успешно сданные текущие экзамены без перезачетов\n",
    "2. делаем разбивку по предмету и отдельным тестам, для каждого считаем среднюю дату прохождения\n",
    "3. делаем более широкую разбивку по предмету, считаем те же показатели"
   ]
  },
  {
   "cell_type": "code",
   "execution_count": 36,
   "metadata": {},
   "outputs": [],
   "source": [
    "exam_submit_dates_data = submitted_tests_data.query('score >= 40 & assessment_type == \"Exam\" & is_banked == 0') \\\n",
    "    .groupby(['code_module', 'id_assessment'], as_index=False) \\\n",
    "    .agg({'date_submitted': 'mean'}) \\\n",
    "    .groupby('code_module', as_index=False) \\\n",
    "    .agg({'date_submitted': 'mean'}) \\\n",
    "    .rename(columns={'date_submitted': 'date_submitted_mean'})"
   ]
  },
  {
   "cell_type": "code",
   "execution_count": null,
   "metadata": {},
   "outputs": [],
   "source": []
  },
  {
   "cell_type": "markdown",
   "metadata": {},
   "source": [
    "### 4. Выявить самые популярные предметы (ТОП-3) по количеству регистраций на них. А также предметы с самым большим оттоком (ТОП-3)\n",
    "\n",
    "- самые популярные предметы -- BBB (7909 регистраций), FFF (7762 регистрации), DDD (6272 регистрации)\n",
    "\n",
    "- предметы с самым большим оттоком:\n",
    "    - в абсолютных значениях -- FFF (1687 отмен), DDD (1639 отмен), CCC (1448 отмен)\n",
    "    - в доле от общего числа -- CCC (33% отмен), DDD (26% отмен), FFF (22% отмен)"
   ]
  },
  {
   "cell_type": "markdown",
   "metadata": {},
   "source": [
    " 4.1 для каждого предмета считаем количество зарегистрировавшихся студентов (один студент = одна регистрация) и выводим топ-3 \n",
    "\n",
    "регистрацию одних и тех же студентов на один предмет в разных семестрах считаем как отдельные регистрации, так как считаем курс за отдельно взятый предмет в рамках отдельно взятого семестра\n",
    "\n",
    "отмененные регистрации тоже засчитываем, так как здесь важна именно изначальная популярность курса"
   ]
  },
  {
   "cell_type": "markdown",
   "metadata": {},
   "source": [
    "1. создаем датафрейм с информацией обо всех регистрациях для каждого предмета"
   ]
  },
  {
   "cell_type": "code",
   "execution_count": 39,
   "metadata": {},
   "outputs": [],
   "source": [
    "registration_by_module = student_registration_df.groupby('code_module', as_index = False) \\\n",
    "    .agg({'id_student': 'count'}) \\\n",
    "    .rename(columns = {'id_student': 'registered_students'})"
   ]
  },
  {
   "cell_type": "markdown",
   "metadata": {},
   "source": [
    " 2. выводим топ-3 предмета "
   ]
  },
  {
   "cell_type": "code",
   "execution_count": 40,
   "metadata": {},
   "outputs": [
    {
     "data": {
      "text/html": [
       "<div>\n",
       "<style scoped>\n",
       "    .dataframe tbody tr th:only-of-type {\n",
       "        vertical-align: middle;\n",
       "    }\n",
       "\n",
       "    .dataframe tbody tr th {\n",
       "        vertical-align: top;\n",
       "    }\n",
       "\n",
       "    .dataframe thead th {\n",
       "        text-align: right;\n",
       "    }\n",
       "</style>\n",
       "<table border=\"1\" class=\"dataframe\">\n",
       "  <thead>\n",
       "    <tr style=\"text-align: right;\">\n",
       "      <th></th>\n",
       "      <th>code_module</th>\n",
       "      <th>registered_students</th>\n",
       "    </tr>\n",
       "  </thead>\n",
       "  <tbody>\n",
       "    <tr>\n",
       "      <th>1</th>\n",
       "      <td>BBB</td>\n",
       "      <td>7909</td>\n",
       "    </tr>\n",
       "    <tr>\n",
       "      <th>5</th>\n",
       "      <td>FFF</td>\n",
       "      <td>7762</td>\n",
       "    </tr>\n",
       "    <tr>\n",
       "      <th>3</th>\n",
       "      <td>DDD</td>\n",
       "      <td>6272</td>\n",
       "    </tr>\n",
       "  </tbody>\n",
       "</table>\n",
       "</div>"
      ],
      "text/plain": [
       "  code_module  registered_students\n",
       "1         BBB                 7909\n",
       "5         FFF                 7762\n",
       "3         DDD                 6272"
      ]
     },
     "execution_count": 40,
     "metadata": {},
     "output_type": "execute_result"
    }
   ],
   "source": [
    "registration_by_module.sort_values('registered_students', ascending = False).head(3)"
   ]
  },
  {
   "cell_type": "markdown",
   "metadata": {},
   "source": [
    "4.2 считаем количество отмененных регистраций `(date_unregistration > 0)`, это будет объем оттока"
   ]
  },
  {
   "cell_type": "code",
   "execution_count": 41,
   "metadata": {},
   "outputs": [],
   "source": [
    "registration_by_module['unregistered_students'] = student_registration_df.query('date_unregistration > 0') \\\n",
    "    .groupby('code_module', as_index = False) \\\n",
    "    .agg({'id_student': 'count'}) \\\n",
    "    .id_student"
   ]
  },
  {
   "cell_type": "markdown",
   "metadata": {},
   "source": [
    "для более полной картины можно узнать долю оттока, для этого делим объем оттока на общее число регистраций \n",
    "\n"
   ]
  },
  {
   "cell_type": "code",
   "execution_count": 42,
   "metadata": {},
   "outputs": [],
   "source": [
    "registration_by_module['unreg_share'] = \\\n",
    "    registration_by_module.unregistered_students / registration_by_module.registered_students * 100"
   ]
  },
  {
   "cell_type": "markdown",
   "metadata": {},
   "source": [
    "сначала выводим топ-3 по оттоку в абсолютных значениях\n",
    "\n"
   ]
  },
  {
   "cell_type": "code",
   "execution_count": 43,
   "metadata": {},
   "outputs": [
    {
     "data": {
      "text/html": [
       "<div>\n",
       "<style scoped>\n",
       "    .dataframe tbody tr th:only-of-type {\n",
       "        vertical-align: middle;\n",
       "    }\n",
       "\n",
       "    .dataframe tbody tr th {\n",
       "        vertical-align: top;\n",
       "    }\n",
       "\n",
       "    .dataframe thead th {\n",
       "        text-align: right;\n",
       "    }\n",
       "</style>\n",
       "<table border=\"1\" class=\"dataframe\">\n",
       "  <thead>\n",
       "    <tr style=\"text-align: right;\">\n",
       "      <th></th>\n",
       "      <th>code_module</th>\n",
       "      <th>registered_students</th>\n",
       "      <th>unregistered_students</th>\n",
       "      <th>unreg_share</th>\n",
       "    </tr>\n",
       "  </thead>\n",
       "  <tbody>\n",
       "    <tr>\n",
       "      <th>5</th>\n",
       "      <td>FFF</td>\n",
       "      <td>7762</td>\n",
       "      <td>1687</td>\n",
       "      <td>21.734089</td>\n",
       "    </tr>\n",
       "    <tr>\n",
       "      <th>3</th>\n",
       "      <td>DDD</td>\n",
       "      <td>6272</td>\n",
       "      <td>1639</td>\n",
       "      <td>26.132015</td>\n",
       "    </tr>\n",
       "    <tr>\n",
       "      <th>2</th>\n",
       "      <td>CCC</td>\n",
       "      <td>4434</td>\n",
       "      <td>1448</td>\n",
       "      <td>32.656743</td>\n",
       "    </tr>\n",
       "  </tbody>\n",
       "</table>\n",
       "</div>"
      ],
      "text/plain": [
       "  code_module  registered_students  unregistered_students  unreg_share\n",
       "5         FFF                 7762                   1687    21.734089\n",
       "3         DDD                 6272                   1639    26.132015\n",
       "2         CCC                 4434                   1448    32.656743"
      ]
     },
     "execution_count": 43,
     "metadata": {},
     "output_type": "execute_result"
    }
   ],
   "source": [
    "registration_by_module.sort_values('unregistered_students', ascending = False).head(3)"
   ]
  },
  {
   "cell_type": "markdown",
   "metadata": {},
   "source": [
    "и в относительных\n",
    "\n"
   ]
  },
  {
   "cell_type": "code",
   "execution_count": 44,
   "metadata": {},
   "outputs": [
    {
     "data": {
      "text/html": [
       "<div>\n",
       "<style scoped>\n",
       "    .dataframe tbody tr th:only-of-type {\n",
       "        vertical-align: middle;\n",
       "    }\n",
       "\n",
       "    .dataframe tbody tr th {\n",
       "        vertical-align: top;\n",
       "    }\n",
       "\n",
       "    .dataframe thead th {\n",
       "        text-align: right;\n",
       "    }\n",
       "</style>\n",
       "<table border=\"1\" class=\"dataframe\">\n",
       "  <thead>\n",
       "    <tr style=\"text-align: right;\">\n",
       "      <th></th>\n",
       "      <th>code_module</th>\n",
       "      <th>registered_students</th>\n",
       "      <th>unregistered_students</th>\n",
       "      <th>unreg_share</th>\n",
       "    </tr>\n",
       "  </thead>\n",
       "  <tbody>\n",
       "    <tr>\n",
       "      <th>2</th>\n",
       "      <td>CCC</td>\n",
       "      <td>4434</td>\n",
       "      <td>1448</td>\n",
       "      <td>32.656743</td>\n",
       "    </tr>\n",
       "    <tr>\n",
       "      <th>3</th>\n",
       "      <td>DDD</td>\n",
       "      <td>6272</td>\n",
       "      <td>1639</td>\n",
       "      <td>26.132015</td>\n",
       "    </tr>\n",
       "    <tr>\n",
       "      <th>5</th>\n",
       "      <td>FFF</td>\n",
       "      <td>7762</td>\n",
       "      <td>1687</td>\n",
       "      <td>21.734089</td>\n",
       "    </tr>\n",
       "  </tbody>\n",
       "</table>\n",
       "</div>"
      ],
      "text/plain": [
       "  code_module  registered_students  unregistered_students  unreg_share\n",
       "2         CCC                 4434                   1448    32.656743\n",
       "3         DDD                 6272                   1639    26.132015\n",
       "5         FFF                 7762                   1687    21.734089"
      ]
     },
     "execution_count": 44,
     "metadata": {},
     "output_type": "execute_result"
    }
   ],
   "source": [
    "registration_by_module.sort_values('unreg_share', ascending = False).head(3)"
   ]
  },
  {
   "cell_type": "markdown",
   "metadata": {},
   "source": [
    "### 5. С начала 2013 по конец 2014 выявить семестр с самой низкой завершаемостью курсов и самыми долгими средними сроками сдачи курсов.\n",
    "\n",
    "- самая низкая завершаемость -- 2013B (0.84)\n",
    "- самые долгие сроки сдачи -- 2013J (261 день с начала семестра)\n",
    "- самая поздняя сдача -- 2014J (244 дня с начала семестра)\n",
    "- самая поздняя сдача относительно срока -- 2014B (6 дней до срока сдачи)"
   ]
  },
  {
   "cell_type": "markdown",
   "metadata": {},
   "source": [
    "для начала смотрим, были ли студенты, сдававшие экзамены несколько раз (нет)\n",
    "\n"
   ]
  },
  {
   "cell_type": "code",
   "execution_count": 46,
   "metadata": {},
   "outputs": [
    {
     "data": {
      "text/html": [
       "<div>\n",
       "<style scoped>\n",
       "    .dataframe tbody tr th:only-of-type {\n",
       "        vertical-align: middle;\n",
       "    }\n",
       "\n",
       "    .dataframe tbody tr th {\n",
       "        vertical-align: top;\n",
       "    }\n",
       "\n",
       "    .dataframe thead th {\n",
       "        text-align: right;\n",
       "    }\n",
       "</style>\n",
       "<table border=\"1\" class=\"dataframe\">\n",
       "  <thead>\n",
       "    <tr style=\"text-align: right;\">\n",
       "      <th></th>\n",
       "      <th>code_presentation</th>\n",
       "      <th>id_assessment</th>\n",
       "      <th>id_student</th>\n",
       "      <th>score</th>\n",
       "    </tr>\n",
       "  </thead>\n",
       "  <tbody>\n",
       "  </tbody>\n",
       "</table>\n",
       "</div>"
      ],
      "text/plain": [
       "Empty DataFrame\n",
       "Columns: [code_presentation, id_assessment, id_student, score]\n",
       "Index: []"
      ]
     },
     "execution_count": 46,
     "metadata": {},
     "output_type": "execute_result"
    }
   ],
   "source": [
    "submitted_tests_data.query('assessment_type == \"Exam\"') \\\n",
    "    .groupby(['code_presentation', 'id_assessment' ,'id_student'], as_index = False) \\\n",
    "    .agg({'score' : 'count'}) \\\n",
    "    .query('score > 1') "
   ]
  },
  {
   "cell_type": "markdown",
   "metadata": {},
   "source": [
    "(данные и есть с начала 2013 по конец 2014, поэтому фильтровать не нужно)\n",
    "\n",
    "здесь все так же, как во втором и третьем вопросе, только для семестров: отбираем только финальные экзамены с группировкой по семестру, считаем кол-во всех попыток и кол-во успешных,  из этого выводим завершаемость и считаем средние сроки сдачи и среднюю фактическую дату сдачи относительно срока сдачи"
   ]
  },
  {
   "cell_type": "code",
   "execution_count": 48,
   "metadata": {},
   "outputs": [],
   "source": [
    "exams_by_semester = submitted_tests_data.query('assessment_type == \"Exam\"') \\\n",
    "    .groupby('code_presentation', as_index = False) \\\n",
    "    .agg({\n",
    "        'id_student' : 'count', \n",
    "        'date_submitted' : lambda x: round(x.mean(), 0), \n",
    "        'date_delta' : lambda x: round(x.mean(), 0), \n",
    "        'date' : 'mean'\n",
    "        }) \\\n",
    "    .rename(columns = \n",
    "            {\n",
    "            'id_student':'exams_taken', \n",
    "            'date_submitted' : 'mean_submit_date', \n",
    "            'date_delta' : 'mean_date_delta', \n",
    "            'date' : 'mean_date'\n",
    "            })"
   ]
  },
  {
   "cell_type": "code",
   "execution_count": 49,
   "metadata": {},
   "outputs": [],
   "source": [
    "exams_by_semester['exams_passed'] = submitted_tests_data.query('assessment_type == \"Exam\" & score >= 40') \\\n",
    "    .groupby('code_presentation', as_index = False) \\\n",
    "    .agg({'id_student': 'count'}) \\\n",
    "    .id_student"
   ]
  },
  {
   "cell_type": "code",
   "execution_count": 50,
   "metadata": {},
   "outputs": [],
   "source": [
    "exams_by_semester['completion_rate'] = (exams_by_semester.exams_passed / exams_by_semester.exams_taken).round(2)"
   ]
  },
  {
   "cell_type": "markdown",
   "metadata": {},
   "source": [
    "видно, что для семестра 2014J нет данных о сроках сдачи, нужно дописследование (ниже)\n",
    "\n"
   ]
  },
  {
   "cell_type": "code",
   "execution_count": 51,
   "metadata": {},
   "outputs": [
    {
     "data": {
      "text/html": [
       "<div>\n",
       "<style scoped>\n",
       "    .dataframe tbody tr th:only-of-type {\n",
       "        vertical-align: middle;\n",
       "    }\n",
       "\n",
       "    .dataframe tbody tr th {\n",
       "        vertical-align: top;\n",
       "    }\n",
       "\n",
       "    .dataframe thead th {\n",
       "        text-align: right;\n",
       "    }\n",
       "</style>\n",
       "<table border=\"1\" class=\"dataframe\">\n",
       "  <thead>\n",
       "    <tr style=\"text-align: right;\">\n",
       "      <th></th>\n",
       "      <th>code_presentation</th>\n",
       "      <th>exams_taken</th>\n",
       "      <th>mean_submit_date</th>\n",
       "      <th>mean_date_delta</th>\n",
       "      <th>mean_date</th>\n",
       "      <th>exams_passed</th>\n",
       "      <th>completion_rate</th>\n",
       "    </tr>\n",
       "  </thead>\n",
       "  <tbody>\n",
       "    <tr>\n",
       "      <th>0</th>\n",
       "      <td>2013B</td>\n",
       "      <td>602</td>\n",
       "      <td>230</td>\n",
       "      <td>-10.0</td>\n",
       "      <td>240.0</td>\n",
       "      <td>504</td>\n",
       "      <td>0.84</td>\n",
       "    </tr>\n",
       "    <tr>\n",
       "      <th>1</th>\n",
       "      <td>2013J</td>\n",
       "      <td>968</td>\n",
       "      <td>240</td>\n",
       "      <td>-21.0</td>\n",
       "      <td>261.0</td>\n",
       "      <td>878</td>\n",
       "      <td>0.91</td>\n",
       "    </tr>\n",
       "    <tr>\n",
       "      <th>2</th>\n",
       "      <td>2014B</td>\n",
       "      <td>1271</td>\n",
       "      <td>233</td>\n",
       "      <td>-6.0</td>\n",
       "      <td>241.0</td>\n",
       "      <td>1149</td>\n",
       "      <td>0.90</td>\n",
       "    </tr>\n",
       "    <tr>\n",
       "      <th>3</th>\n",
       "      <td>2014J</td>\n",
       "      <td>2118</td>\n",
       "      <td>244</td>\n",
       "      <td>NaN</td>\n",
       "      <td>NaN</td>\n",
       "      <td>1861</td>\n",
       "      <td>0.88</td>\n",
       "    </tr>\n",
       "  </tbody>\n",
       "</table>\n",
       "</div>"
      ],
      "text/plain": [
       "  code_presentation  exams_taken  mean_submit_date  mean_date_delta  \\\n",
       "0             2013B          602               230            -10.0   \n",
       "1             2013J          968               240            -21.0   \n",
       "2             2014B         1271               233             -6.0   \n",
       "3             2014J         2118               244              NaN   \n",
       "\n",
       "   mean_date  exams_passed  completion_rate  \n",
       "0      240.0           504             0.84  \n",
       "1      261.0           878             0.91  \n",
       "2      241.0          1149             0.90  \n",
       "3        NaN          1861             0.88  "
      ]
     },
     "execution_count": 51,
     "metadata": {},
     "output_type": "execute_result"
    }
   ],
   "source": [
    "exams_by_semester"
   ]
  },
  {
   "cell_type": "markdown",
   "metadata": {},
   "source": [
    "здесь можно увидеть, что для некоторых курсов нет данных о сроках сдачи экзаменов\n",
    "\n",
    "предполагаю, что для этих  экзаменов не было фиксированной окончательной даты сдачи. в связи с этим имеет смысл ориентироваться также на фактическую дату сдачи для всех экзаменов\n",
    "\n"
   ]
  },
  {
   "cell_type": "code",
   "execution_count": 52,
   "metadata": {},
   "outputs": [
    {
     "data": {
      "text/html": [
       "<div>\n",
       "<style scoped>\n",
       "    .dataframe tbody tr th:only-of-type {\n",
       "        vertical-align: middle;\n",
       "    }\n",
       "\n",
       "    .dataframe tbody tr th {\n",
       "        vertical-align: top;\n",
       "    }\n",
       "\n",
       "    .dataframe thead th {\n",
       "        text-align: right;\n",
       "    }\n",
       "</style>\n",
       "<table border=\"1\" class=\"dataframe\">\n",
       "  <thead>\n",
       "    <tr style=\"text-align: right;\">\n",
       "      <th></th>\n",
       "      <th>code_presentation</th>\n",
       "      <th>code_module</th>\n",
       "      <th>date</th>\n",
       "      <th>date_submitted</th>\n",
       "    </tr>\n",
       "  </thead>\n",
       "  <tbody>\n",
       "    <tr>\n",
       "      <th>0</th>\n",
       "      <td>2013B</td>\n",
       "      <td>DDD</td>\n",
       "      <td>240.0</td>\n",
       "      <td>230</td>\n",
       "    </tr>\n",
       "    <tr>\n",
       "      <th>1</th>\n",
       "      <td>2013J</td>\n",
       "      <td>DDD</td>\n",
       "      <td>261.0</td>\n",
       "      <td>240</td>\n",
       "    </tr>\n",
       "    <tr>\n",
       "      <th>2</th>\n",
       "      <td>2014B</td>\n",
       "      <td>CCC</td>\n",
       "      <td>NaN</td>\n",
       "      <td>232</td>\n",
       "    </tr>\n",
       "    <tr>\n",
       "      <th>3</th>\n",
       "      <td>2014B</td>\n",
       "      <td>DDD</td>\n",
       "      <td>241.0</td>\n",
       "      <td>235</td>\n",
       "    </tr>\n",
       "    <tr>\n",
       "      <th>4</th>\n",
       "      <td>2014J</td>\n",
       "      <td>CCC</td>\n",
       "      <td>NaN</td>\n",
       "      <td>244</td>\n",
       "    </tr>\n",
       "    <tr>\n",
       "      <th>5</th>\n",
       "      <td>2014J</td>\n",
       "      <td>DDD</td>\n",
       "      <td>NaN</td>\n",
       "      <td>243</td>\n",
       "    </tr>\n",
       "  </tbody>\n",
       "</table>\n",
       "</div>"
      ],
      "text/plain": [
       "  code_presentation code_module   date  date_submitted\n",
       "0             2013B         DDD  240.0             230\n",
       "1             2013J         DDD  261.0             240\n",
       "2             2014B         CCC    NaN             232\n",
       "3             2014B         DDD  241.0             235\n",
       "4             2014J         CCC    NaN             244\n",
       "5             2014J         DDD    NaN             243"
      ]
     },
     "execution_count": 52,
     "metadata": {},
     "output_type": "execute_result"
    }
   ],
   "source": [
    "submitted_tests_data.query('assessment_type == \"Exam\"') \\\n",
    "    .groupby(['code_presentation', 'code_module'], as_index = False) \\\n",
    "    .agg({'date':'mean', 'date_submitted': lambda x: round(x.mean(), 0)})"
   ]
  },
  {
   "cell_type": "code",
   "execution_count": 53,
   "metadata": {},
   "outputs": [
    {
     "data": {
      "text/html": [
       "<div>\n",
       "<style scoped>\n",
       "    .dataframe tbody tr th:only-of-type {\n",
       "        vertical-align: middle;\n",
       "    }\n",
       "\n",
       "    .dataframe tbody tr th {\n",
       "        vertical-align: top;\n",
       "    }\n",
       "\n",
       "    .dataframe thead th {\n",
       "        text-align: right;\n",
       "    }\n",
       "</style>\n",
       "<table border=\"1\" class=\"dataframe\">\n",
       "  <thead>\n",
       "    <tr style=\"text-align: right;\">\n",
       "      <th></th>\n",
       "      <th>code_presentation</th>\n",
       "      <th>exams_taken</th>\n",
       "      <th>mean_submit_date</th>\n",
       "      <th>mean_date_delta</th>\n",
       "      <th>mean_date</th>\n",
       "      <th>exams_passed</th>\n",
       "      <th>completion_rate</th>\n",
       "    </tr>\n",
       "  </thead>\n",
       "  <tbody>\n",
       "    <tr>\n",
       "      <th>0</th>\n",
       "      <td>2013B</td>\n",
       "      <td>602</td>\n",
       "      <td>230</td>\n",
       "      <td>-10.0</td>\n",
       "      <td>240.0</td>\n",
       "      <td>504</td>\n",
       "      <td>0.84</td>\n",
       "    </tr>\n",
       "  </tbody>\n",
       "</table>\n",
       "</div>"
      ],
      "text/plain": [
       "  code_presentation  exams_taken  mean_submit_date  mean_date_delta  \\\n",
       "0             2013B          602               230            -10.0   \n",
       "\n",
       "   mean_date  exams_passed  completion_rate  \n",
       "0      240.0           504             0.84  "
      ]
     },
     "execution_count": 53,
     "metadata": {},
     "output_type": "execute_result"
    }
   ],
   "source": [
    "lowest_sem_comp_rate = exams_by_semester[\n",
    "    exams_by_semester.completion_rate == exams_by_semester.completion_rate.min()\n",
    "    ]\n",
    "lowest_sem_comp_rate"
   ]
  },
  {
   "cell_type": "code",
   "execution_count": 54,
   "metadata": {},
   "outputs": [
    {
     "data": {
      "text/html": [
       "<div>\n",
       "<style scoped>\n",
       "    .dataframe tbody tr th:only-of-type {\n",
       "        vertical-align: middle;\n",
       "    }\n",
       "\n",
       "    .dataframe tbody tr th {\n",
       "        vertical-align: top;\n",
       "    }\n",
       "\n",
       "    .dataframe thead th {\n",
       "        text-align: right;\n",
       "    }\n",
       "</style>\n",
       "<table border=\"1\" class=\"dataframe\">\n",
       "  <thead>\n",
       "    <tr style=\"text-align: right;\">\n",
       "      <th></th>\n",
       "      <th>code_presentation</th>\n",
       "      <th>exams_taken</th>\n",
       "      <th>mean_submit_date</th>\n",
       "      <th>mean_date_delta</th>\n",
       "      <th>mean_date</th>\n",
       "      <th>exams_passed</th>\n",
       "      <th>completion_rate</th>\n",
       "    </tr>\n",
       "  </thead>\n",
       "  <tbody>\n",
       "    <tr>\n",
       "      <th>1</th>\n",
       "      <td>2013J</td>\n",
       "      <td>968</td>\n",
       "      <td>240</td>\n",
       "      <td>-21.0</td>\n",
       "      <td>261.0</td>\n",
       "      <td>878</td>\n",
       "      <td>0.91</td>\n",
       "    </tr>\n",
       "  </tbody>\n",
       "</table>\n",
       "</div>"
      ],
      "text/plain": [
       "  code_presentation  exams_taken  mean_submit_date  mean_date_delta  \\\n",
       "1             2013J          968               240            -21.0   \n",
       "\n",
       "   mean_date  exams_passed  completion_rate  \n",
       "1      261.0           878             0.91  "
      ]
     },
     "execution_count": 54,
     "metadata": {},
     "output_type": "execute_result"
    }
   ],
   "source": [
    "latest_sem_exam_date = exams_by_semester[\n",
    "    exams_by_semester.mean_date == exams_by_semester.mean_date.max()\n",
    "    ]\n",
    "latest_sem_exam_date"
   ]
  },
  {
   "cell_type": "code",
   "execution_count": 55,
   "metadata": {},
   "outputs": [
    {
     "data": {
      "text/html": [
       "<div>\n",
       "<style scoped>\n",
       "    .dataframe tbody tr th:only-of-type {\n",
       "        vertical-align: middle;\n",
       "    }\n",
       "\n",
       "    .dataframe tbody tr th {\n",
       "        vertical-align: top;\n",
       "    }\n",
       "\n",
       "    .dataframe thead th {\n",
       "        text-align: right;\n",
       "    }\n",
       "</style>\n",
       "<table border=\"1\" class=\"dataframe\">\n",
       "  <thead>\n",
       "    <tr style=\"text-align: right;\">\n",
       "      <th></th>\n",
       "      <th>code_presentation</th>\n",
       "      <th>exams_taken</th>\n",
       "      <th>mean_submit_date</th>\n",
       "      <th>mean_date_delta</th>\n",
       "      <th>mean_date</th>\n",
       "      <th>exams_passed</th>\n",
       "      <th>completion_rate</th>\n",
       "    </tr>\n",
       "  </thead>\n",
       "  <tbody>\n",
       "    <tr>\n",
       "      <th>3</th>\n",
       "      <td>2014J</td>\n",
       "      <td>2118</td>\n",
       "      <td>244</td>\n",
       "      <td>NaN</td>\n",
       "      <td>NaN</td>\n",
       "      <td>1861</td>\n",
       "      <td>0.88</td>\n",
       "    </tr>\n",
       "  </tbody>\n",
       "</table>\n",
       "</div>"
      ],
      "text/plain": [
       "  code_presentation  exams_taken  mean_submit_date  mean_date_delta  \\\n",
       "3             2014J         2118               244              NaN   \n",
       "\n",
       "   mean_date  exams_passed  completion_rate  \n",
       "3        NaN          1861             0.88  "
      ]
     },
     "execution_count": 55,
     "metadata": {},
     "output_type": "execute_result"
    }
   ],
   "source": [
    "latest_sem_submit_date = exams_by_semester[\n",
    "    exams_by_semester.mean_submit_date == exams_by_semester.mean_submit_date.max()\n",
    "    ]\n",
    "latest_sem_submit_date"
   ]
  },
  {
   "cell_type": "code",
   "execution_count": 56,
   "metadata": {},
   "outputs": [
    {
     "data": {
      "text/html": [
       "<div>\n",
       "<style scoped>\n",
       "    .dataframe tbody tr th:only-of-type {\n",
       "        vertical-align: middle;\n",
       "    }\n",
       "\n",
       "    .dataframe tbody tr th {\n",
       "        vertical-align: top;\n",
       "    }\n",
       "\n",
       "    .dataframe thead th {\n",
       "        text-align: right;\n",
       "    }\n",
       "</style>\n",
       "<table border=\"1\" class=\"dataframe\">\n",
       "  <thead>\n",
       "    <tr style=\"text-align: right;\">\n",
       "      <th></th>\n",
       "      <th>code_presentation</th>\n",
       "      <th>exams_taken</th>\n",
       "      <th>mean_submit_date</th>\n",
       "      <th>mean_date_delta</th>\n",
       "      <th>mean_date</th>\n",
       "      <th>exams_passed</th>\n",
       "      <th>completion_rate</th>\n",
       "    </tr>\n",
       "  </thead>\n",
       "  <tbody>\n",
       "    <tr>\n",
       "      <th>2</th>\n",
       "      <td>2014B</td>\n",
       "      <td>1271</td>\n",
       "      <td>233</td>\n",
       "      <td>-6.0</td>\n",
       "      <td>241.0</td>\n",
       "      <td>1149</td>\n",
       "      <td>0.9</td>\n",
       "    </tr>\n",
       "  </tbody>\n",
       "</table>\n",
       "</div>"
      ],
      "text/plain": [
       "  code_presentation  exams_taken  mean_submit_date  mean_date_delta  \\\n",
       "2             2014B         1271               233             -6.0   \n",
       "\n",
       "   mean_date  exams_passed  completion_rate  \n",
       "2      241.0          1149              0.9  "
      ]
     },
     "execution_count": 56,
     "metadata": {},
     "output_type": "execute_result"
    }
   ],
   "source": [
    "latest_sem_submission = exams_by_semester[\n",
    "    exams_by_semester.mean_date_delta == exams_by_semester.mean_date_delta.max()\n",
    "    ]\n",
    "latest_sem_submission"
   ]
  },
  {
   "cell_type": "markdown",
   "metadata": {},
   "source": [
    "### 6. Часто для качественного анализа аудитории используют подходы, основанные на сегментации. Используя python, построить адаптированные RFM-кластеры студентов, чтобы качественно оценить свою аудиторию.\n",
    "    - R - среднее время сдачи одного экзамена, \n",
    "    - F - завершаемость курсов, \n",
    "    - M - среднее количество баллов, получаемое за экзамен. \n",
    "### Для каждого RFM-сегмента построить границы метрик recency, frequency и monetary для интерпретации этих кластеров."
   ]
  },
  {
   "cell_type": "markdown",
   "metadata": {},
   "source": [
    "важное замечание: данные здесь будут недостаточно полными для понимания общей картины, из-за все того же отсутствия логов финальных экзаменов для большинства курсов. но посмотрев на долю студентов на курсах с логами финальных экзаменов (CCC и DDD), можно сказать, что наших данных (30% от всех регистраций, и это не учитывая регистрации студентов), вполне достаточно для примерного понимания всей аудитории\n",
    "\n"
   ]
  },
  {
   "cell_type": "code",
   "execution_count": 58,
   "metadata": {},
   "outputs": [
    {
     "data": {
      "text/plain": [
       "0.32847543951155156"
      ]
     },
     "execution_count": 58,
     "metadata": {},
     "output_type": "execute_result"
    }
   ],
   "source": [
    "registration_by_module.query('code_module == \"CCC\" | code_module == \"DDD\"').registered_students.sum() / \\\n",
    "registration_by_module.registered_students.sum()"
   ]
  },
  {
   "cell_type": "markdown",
   "metadata": {},
   "source": [
    "из решения задания 5 мы знаем, что студенты не сдавали одни и те же экзамены по несколько раз.\n",
    "также можно убедиться, что в наших данных нет перезачетов, засчитанных вместе со сдачей экзаменов, так как такое может мешать рассчетам средней даты сдачи\n",
    "\n",
    "берем данные по каждому студенту в интересующих нас данных и смотрим на перезачеты\n",
    "\n"
   ]
  },
  {
   "cell_type": "code",
   "execution_count": 59,
   "metadata": {},
   "outputs": [
    {
     "data": {
      "text/html": [
       "<div>\n",
       "<style scoped>\n",
       "    .dataframe tbody tr th:only-of-type {\n",
       "        vertical-align: middle;\n",
       "    }\n",
       "\n",
       "    .dataframe tbody tr th {\n",
       "        vertical-align: top;\n",
       "    }\n",
       "\n",
       "    .dataframe thead th {\n",
       "        text-align: right;\n",
       "    }\n",
       "</style>\n",
       "<table border=\"1\" class=\"dataframe\">\n",
       "  <thead>\n",
       "    <tr style=\"text-align: right;\">\n",
       "      <th></th>\n",
       "      <th>id_student</th>\n",
       "      <th>is_banked</th>\n",
       "    </tr>\n",
       "  </thead>\n",
       "  <tbody>\n",
       "  </tbody>\n",
       "</table>\n",
       "</div>"
      ],
      "text/plain": [
       "Empty DataFrame\n",
       "Columns: [id_student, is_banked]\n",
       "Index: []"
      ]
     },
     "execution_count": 59,
     "metadata": {},
     "output_type": "execute_result"
    }
   ],
   "source": [
    "submitted_tests_data.query('assessment_type == \"Exam\"') \\\n",
    "    .groupby('id_student', as_index=False) \\\n",
    "    .agg({'is_banked':'sum'}) \\\n",
    "    .query('is_banked > 0')"
   ]
  },
  {
   "cell_type": "markdown",
   "metadata": {},
   "source": [
    "собираем всю нужную для создания кластеров информацию -- группируем по студентам, для каждого считаем средние дату сдачи  тестов, оценку, кол-во уникальных экзаменов и количество пройденных\n",
    "\n"
   ]
  },
  {
   "cell_type": "code",
   "execution_count": 60,
   "metadata": {},
   "outputs": [],
   "source": [
    "rfm_df = submitted_tests_data.query('assessment_type == \"Exam\"') \\\n",
    "    .groupby('id_student', as_index=False) \\\n",
    "    .agg({'date_submitted':'mean', \n",
    "          'score' : 'mean',\n",
    "          'id_assessment' : lambda x: x.nunique(),\n",
    "          'passed' : 'sum'\n",
    "         }) \\\n",
    "    .rename(columns={'id_assessment' : 'exams_taken', \n",
    "                     'date_submitted' : 'mean_date',\n",
    "                     'score' : 'mean_score'\n",
    "                    })"
   ]
  },
  {
   "cell_type": "markdown",
   "metadata": {},
   "source": [
    "выводим коэффициент завершаемости -- кол-во сданных эказменов делим на кол-во всех попыток"
   ]
  },
  {
   "cell_type": "code",
   "execution_count": 61,
   "metadata": {},
   "outputs": [],
   "source": [
    "rfm_df['comp_rate'] = rfm_df.passed / rfm_df.exams_taken"
   ]
  },
  {
   "cell_type": "markdown",
   "metadata": {},
   "source": [
    "с помощью метода describe смотрим на статы для всех показателей\n",
    "\n"
   ]
  },
  {
   "cell_type": "code",
   "execution_count": 62,
   "metadata": {},
   "outputs": [
    {
     "data": {
      "text/html": [
       "<div>\n",
       "<style scoped>\n",
       "    .dataframe tbody tr th:only-of-type {\n",
       "        vertical-align: middle;\n",
       "    }\n",
       "\n",
       "    .dataframe tbody tr th {\n",
       "        vertical-align: top;\n",
       "    }\n",
       "\n",
       "    .dataframe thead th {\n",
       "        text-align: right;\n",
       "    }\n",
       "</style>\n",
       "<table border=\"1\" class=\"dataframe\">\n",
       "  <thead>\n",
       "    <tr style=\"text-align: right;\">\n",
       "      <th></th>\n",
       "      <th>id_student</th>\n",
       "      <th>mean_date</th>\n",
       "      <th>mean_score</th>\n",
       "      <th>exams_taken</th>\n",
       "      <th>passed</th>\n",
       "      <th>comp_rate</th>\n",
       "    </tr>\n",
       "  </thead>\n",
       "  <tbody>\n",
       "    <tr>\n",
       "      <th>count</th>\n",
       "      <td>4.633000e+03</td>\n",
       "      <td>4633.000000</td>\n",
       "      <td>4633.000000</td>\n",
       "      <td>4633.000000</td>\n",
       "      <td>4633.000000</td>\n",
       "      <td>4633.000000</td>\n",
       "    </tr>\n",
       "    <tr>\n",
       "      <th>mean</th>\n",
       "      <td>7.256904e+05</td>\n",
       "      <td>238.462227</td>\n",
       "      <td>65.117958</td>\n",
       "      <td>1.070365</td>\n",
       "      <td>0.947982</td>\n",
       "      <td>0.881286</td>\n",
       "    </tr>\n",
       "    <tr>\n",
       "      <th>std</th>\n",
       "      <td>5.753498e+05</td>\n",
       "      <td>5.653378</td>\n",
       "      <td>20.470561</td>\n",
       "      <td>0.255788</td>\n",
       "      <td>0.420354</td>\n",
       "      <td>0.321142</td>\n",
       "    </tr>\n",
       "    <tr>\n",
       "      <th>min</th>\n",
       "      <td>2.369800e+04</td>\n",
       "      <td>229.000000</td>\n",
       "      <td>0.000000</td>\n",
       "      <td>1.000000</td>\n",
       "      <td>0.000000</td>\n",
       "      <td>0.000000</td>\n",
       "    </tr>\n",
       "    <tr>\n",
       "      <th>25%</th>\n",
       "      <td>5.011580e+05</td>\n",
       "      <td>234.000000</td>\n",
       "      <td>50.000000</td>\n",
       "      <td>1.000000</td>\n",
       "      <td>1.000000</td>\n",
       "      <td>1.000000</td>\n",
       "    </tr>\n",
       "    <tr>\n",
       "      <th>50%</th>\n",
       "      <td>5.884820e+05</td>\n",
       "      <td>241.000000</td>\n",
       "      <td>66.000000</td>\n",
       "      <td>1.000000</td>\n",
       "      <td>1.000000</td>\n",
       "      <td>1.000000</td>\n",
       "    </tr>\n",
       "    <tr>\n",
       "      <th>75%</th>\n",
       "      <td>6.463510e+05</td>\n",
       "      <td>243.000000</td>\n",
       "      <td>82.000000</td>\n",
       "      <td>1.000000</td>\n",
       "      <td>1.000000</td>\n",
       "      <td>1.000000</td>\n",
       "    </tr>\n",
       "    <tr>\n",
       "      <th>max</th>\n",
       "      <td>2.698251e+06</td>\n",
       "      <td>285.000000</td>\n",
       "      <td>100.000000</td>\n",
       "      <td>2.000000</td>\n",
       "      <td>2.000000</td>\n",
       "      <td>1.000000</td>\n",
       "    </tr>\n",
       "  </tbody>\n",
       "</table>\n",
       "</div>"
      ],
      "text/plain": [
       "         id_student    mean_date   mean_score  exams_taken       passed  \\\n",
       "count  4.633000e+03  4633.000000  4633.000000  4633.000000  4633.000000   \n",
       "mean   7.256904e+05   238.462227    65.117958     1.070365     0.947982   \n",
       "std    5.753498e+05     5.653378    20.470561     0.255788     0.420354   \n",
       "min    2.369800e+04   229.000000     0.000000     1.000000     0.000000   \n",
       "25%    5.011580e+05   234.000000    50.000000     1.000000     1.000000   \n",
       "50%    5.884820e+05   241.000000    66.000000     1.000000     1.000000   \n",
       "75%    6.463510e+05   243.000000    82.000000     1.000000     1.000000   \n",
       "max    2.698251e+06   285.000000   100.000000     2.000000     2.000000   \n",
       "\n",
       "         comp_rate  \n",
       "count  4633.000000  \n",
       "mean      0.881286  \n",
       "std       0.321142  \n",
       "min       0.000000  \n",
       "25%       1.000000  \n",
       "50%       1.000000  \n",
       "75%       1.000000  \n",
       "max       1.000000  "
      ]
     },
     "execution_count": 62,
     "metadata": {},
     "output_type": "execute_result"
    }
   ],
   "source": [
    "rfm_df.describe()"
   ]
  },
  {
   "cell_type": "markdown",
   "metadata": {},
   "source": [
    "считаю правильным использовать квантили для кластеризации, так как это более адаптивный и удобный метод в работе со сложно сегментируемыми данными. однако для кластеризации по завершаемости буду использовать обычные ранги - разбивка по квантилям не имеет смысла (у подавляющей части студентов коэффициент = 1, и очень маленький разброс значений)"
   ]
  },
  {
   "cell_type": "markdown",
   "metadata": {},
   "source": [
    "ранги для завершаемости строим, основываясь на всех видимых значениях метрики:\n",
    "1. 0 - 0.49 \n",
    "2. 0.5 - 0.99 \n",
    "3. 1\n",
    "\n"
   ]
  },
  {
   "cell_type": "code",
   "execution_count": 64,
   "metadata": {},
   "outputs": [
    {
     "data": {
      "text/plain": [
       "1.0    4069\n",
       "0.0     536\n",
       "0.5      28\n",
       "Name: comp_rate, dtype: int64"
      ]
     },
     "execution_count": 64,
     "metadata": {},
     "output_type": "execute_result"
    }
   ],
   "source": [
    "rfm_df.comp_rate.value_counts()"
   ]
  },
  {
   "cell_type": "markdown",
   "metadata": {},
   "source": [
    "выводим квантили для всех остальных метрик. для них будем классически отбирать по 20%, разброс и диапазон значений достаточно большой, так что можно это не адаптировать\n",
    "\n",
    "таким образом у нас будут две метрики с пятью рангами и одна с тремя\n"
   ]
  },
  {
   "cell_type": "code",
   "execution_count": 65,
   "metadata": {},
   "outputs": [],
   "source": [
    "quantiles = rfm_df[['mean_score', 'mean_date']].quantile([.2, .4, .6, .8]).to_dict()"
   ]
  },
  {
   "cell_type": "markdown",
   "metadata": {},
   "source": [
    "#### здесь создаем три функции:\n",
    "    - одна для \"отрицательно зависимой\" метрики (средняя дата сдачи): чем больше значение, тем хуже\n",
    "    - вторая для \"положительно зависимой\" (средняя оценка): чем больше, тем лучше\n",
    "    - третья для метрики с тремя рангами, тоже \"положительно зависимой\"\n",
    "    \n",
    "для простоты восприятия переименуем наши метрики в d(date), c(completion), s(score)\n",
    "\n"
   ]
  },
  {
   "cell_type": "code",
   "execution_count": 66,
   "metadata": {},
   "outputs": [],
   "source": [
    "def d_score(x):\n",
    "    if x <= quantiles['mean_date'][.2]:\n",
    "        return 5\n",
    "    elif x <= quantiles['mean_date'][.4]:\n",
    "        return 4\n",
    "    elif x <= quantiles['mean_date'][.6]:\n",
    "        return 3\n",
    "    elif x <= quantiles['mean_date'][.8]:\n",
    "        return 2\n",
    "    else:\n",
    "        return 1\n",
    "\n",
    "def s_score(x):\n",
    "    if x <= quantiles['mean_score'][.2]:\n",
    "        return 1\n",
    "    elif x <= quantiles['mean_score'][.4]:\n",
    "        return 2\n",
    "    elif x <= quantiles['mean_score'][.6]:\n",
    "        return 3\n",
    "    elif x <= quantiles['mean_score'][.8]:\n",
    "        return 4\n",
    "    else:\n",
    "        return 5 \n",
    "    \n",
    "def c_score(x):\n",
    "    if x == 0:\n",
    "        return 1\n",
    "    elif x <= 0.5:\n",
    "        return 2\n",
    "    else:\n",
    "        return 3"
   ]
  },
  {
   "cell_type": "markdown",
   "metadata": {},
   "source": [
    "просто применяем функции к исходным колонкам через лямбду, чтобы получить колонки с рангами\n",
    "\n"
   ]
  },
  {
   "cell_type": "code",
   "execution_count": 67,
   "metadata": {},
   "outputs": [],
   "source": [
    "rfm_df['d'] = rfm_df.mean_date.apply(lambda x: d_score(x))\n",
    "rfm_df['s'] = rfm_df.mean_score.apply(lambda x: s_score(x))\n",
    "rfm_df['c'] = rfm_df.comp_rate.apply(lambda x: c_score(x))"
   ]
  },
  {
   "cell_type": "markdown",
   "metadata": {},
   "source": [
    "сшиваем все значения рангов в одну колонку для дальнейшей работы\n",
    "\n"
   ]
  },
  {
   "cell_type": "code",
   "execution_count": 68,
   "metadata": {},
   "outputs": [],
   "source": [
    "rfm_df['dsc'] = rfm_df.d.map(str) + rfm_df.s.map(str) + rfm_df.c.map(str)"
   ]
  },
  {
   "cell_type": "code",
   "execution_count": 69,
   "metadata": {},
   "outputs": [
    {
     "data": {
      "text/html": [
       "<div>\n",
       "<style scoped>\n",
       "    .dataframe tbody tr th:only-of-type {\n",
       "        vertical-align: middle;\n",
       "    }\n",
       "\n",
       "    .dataframe tbody tr th {\n",
       "        vertical-align: top;\n",
       "    }\n",
       "\n",
       "    .dataframe thead th {\n",
       "        text-align: right;\n",
       "    }\n",
       "</style>\n",
       "<table border=\"1\" class=\"dataframe\">\n",
       "  <thead>\n",
       "    <tr style=\"text-align: right;\">\n",
       "      <th></th>\n",
       "      <th>id_student</th>\n",
       "      <th>mean_date</th>\n",
       "      <th>mean_score</th>\n",
       "      <th>exams_taken</th>\n",
       "      <th>passed</th>\n",
       "      <th>comp_rate</th>\n",
       "      <th>d</th>\n",
       "      <th>s</th>\n",
       "      <th>c</th>\n",
       "      <th>dsc</th>\n",
       "    </tr>\n",
       "  </thead>\n",
       "  <tbody>\n",
       "    <tr>\n",
       "      <th>0</th>\n",
       "      <td>23698</td>\n",
       "      <td>243.0</td>\n",
       "      <td>80.0</td>\n",
       "      <td>1</td>\n",
       "      <td>1</td>\n",
       "      <td>1.0</td>\n",
       "      <td>2</td>\n",
       "      <td>4</td>\n",
       "      <td>3</td>\n",
       "      <td>243</td>\n",
       "    </tr>\n",
       "    <tr>\n",
       "      <th>1</th>\n",
       "      <td>24213</td>\n",
       "      <td>236.0</td>\n",
       "      <td>58.0</td>\n",
       "      <td>1</td>\n",
       "      <td>1</td>\n",
       "      <td>1.0</td>\n",
       "      <td>4</td>\n",
       "      <td>2</td>\n",
       "      <td>3</td>\n",
       "      <td>423</td>\n",
       "    </tr>\n",
       "    <tr>\n",
       "      <th>2</th>\n",
       "      <td>27116</td>\n",
       "      <td>243.0</td>\n",
       "      <td>96.0</td>\n",
       "      <td>1</td>\n",
       "      <td>1</td>\n",
       "      <td>1.0</td>\n",
       "      <td>2</td>\n",
       "      <td>5</td>\n",
       "      <td>3</td>\n",
       "      <td>253</td>\n",
       "    </tr>\n",
       "    <tr>\n",
       "      <th>3</th>\n",
       "      <td>28046</td>\n",
       "      <td>237.0</td>\n",
       "      <td>40.0</td>\n",
       "      <td>1</td>\n",
       "      <td>1</td>\n",
       "      <td>1.0</td>\n",
       "      <td>4</td>\n",
       "      <td>1</td>\n",
       "      <td>3</td>\n",
       "      <td>413</td>\n",
       "    </tr>\n",
       "    <tr>\n",
       "      <th>4</th>\n",
       "      <td>28787</td>\n",
       "      <td>243.0</td>\n",
       "      <td>44.0</td>\n",
       "      <td>1</td>\n",
       "      <td>1</td>\n",
       "      <td>1.0</td>\n",
       "      <td>2</td>\n",
       "      <td>1</td>\n",
       "      <td>3</td>\n",
       "      <td>213</td>\n",
       "    </tr>\n",
       "  </tbody>\n",
       "</table>\n",
       "</div>"
      ],
      "text/plain": [
       "   id_student  mean_date  mean_score  exams_taken  passed  comp_rate  d  s  c  \\\n",
       "0       23698      243.0        80.0            1       1        1.0  2  4  3   \n",
       "1       24213      236.0        58.0            1       1        1.0  4  2  3   \n",
       "2       27116      243.0        96.0            1       1        1.0  2  5  3   \n",
       "3       28046      237.0        40.0            1       1        1.0  4  1  3   \n",
       "4       28787      243.0        44.0            1       1        1.0  2  1  3   \n",
       "\n",
       "   dsc  \n",
       "0  243  \n",
       "1  423  \n",
       "2  253  \n",
       "3  413  \n",
       "4  213  "
      ]
     },
     "execution_count": 69,
     "metadata": {},
     "output_type": "execute_result"
    }
   ],
   "source": [
    "rfm_df.head()"
   ]
  },
  {
   "cell_type": "markdown",
   "metadata": {},
   "source": [
    "#### три следующих графика -- распределение всех значений кластеров\n",
    "\n",
    "на них видно, что для даты и оценки значения распределены в целом равномерно, хотя для даты доминирует кластер 4, а для оценок кластер 2, распределение кластеров по завершаемости неравномерное, подавляющее большинство студентов сдает все экзамены, есть небольшая доля не сдавших экзамены совсем, и, что интересно, совсем мизерная часть сдавших только часть\n",
    "\n",
    "можно сделать вывод, что в исследуемой группе есть склонность завершать курсы быстро, но не всегда качественно"
   ]
  },
  {
   "cell_type": "code",
   "execution_count": 70,
   "metadata": {},
   "outputs": [
    {
     "data": {
      "image/png": "[encoded data removed]",
      "text/plain": [
       "<Figure size 360x360 with 1 Axes>"
      ]
     },
     "metadata": {
      "needs_background": "light"
     },
     "output_type": "display_data"
    }
   ],
   "source": [
    "sns.displot(data=rfm_df, x=rfm_df.d, bins=5)\n",
    "sns.set(rc={'figure.figsize': (7, 5), 'grid.linestyle': ':'}, style='whitegrid')"
   ]
  },
  {
   "cell_type": "code",
   "execution_count": 71,
   "metadata": {},
   "outputs": [
    {
     "data": {
      "image/png": "[encoded data removed]",
      "text/plain": [
       "<Figure size 360x360 with 1 Axes>"
      ]
     },
     "metadata": {},
     "output_type": "display_data"
    }
   ],
   "source": [
    "sns.displot(data=rfm_df, x=rfm_df.s, bins=5)\n",
    "sns.set(rc={'figure.figsize': (8, 5), 'grid.linestyle': ':'}, style='whitegrid')"
   ]
  },
  {
   "cell_type": "code",
   "execution_count": 72,
   "metadata": {},
   "outputs": [
    {
     "data": {
      "image/png": "[encoded data removed]",
      "text/plain": [
       "<Figure size 360x360 with 1 Axes>"
      ]
     },
     "metadata": {},
     "output_type": "display_data"
    }
   ],
   "source": [
    "sns.displot(data=rfm_df, x=rfm_df.c, bins=3)\n",
    "sns.set(rc={'figure.figsize': (8, 5), 'grid.linestyle': ':'}, style='whitegrid')"
   ]
  },
  {
   "cell_type": "markdown",
   "metadata": {},
   "source": [
    "чтобы понять, с чего начать строить сегменты, посмотрим, как ранги разных метрик взаимосвязаны:\n",
    "сколько разных рангов одних переменных существуют внутри рангов других.\n",
    "дополнительно узнаем долю от каждой метрики в кластере, чтобы понимать возможность зависимости \n",
    "удобнее всего это начать делать с метрики завершаемости"
   ]
  },
  {
   "cell_type": "markdown",
   "metadata": {},
   "source": [
    " смотрим на варианты значений S в зависимости от значений С.\n",
    " ожидаемо, люди, которые получают оценки лучше, имеют более высокий коэф. завершаемости, нулевой только у 1 ранга"
   ]
  },
  {
   "cell_type": "code",
   "execution_count": 74,
   "metadata": {},
   "outputs": [
    {
     "name": "stdout",
     "output_type": "stream",
     "text": [
      "1    1.0\n",
      "Name: s, dtype: float64\n",
      "2    0.536\n",
      "1    0.464\n",
      "Name: s, dtype: float64\n",
      "2    0.253\n",
      "5    0.224\n",
      "4    0.220\n",
      "3    0.211\n",
      "1    0.093\n",
      "Name: s, dtype: float64\n"
     ]
    }
   ],
   "source": [
    "print(rfm_df[rfm_df.c == 1].s.value_counts(normalize=True).round(3))\n",
    "print(rfm_df[rfm_df.c == 2].s.value_counts(normalize=True).round(3))\n",
    "print(rfm_df[rfm_df.c == 3].s.value_counts(normalize=True).round(3))"
   ]
  },
  {
   "cell_type": "markdown",
   "metadata": {},
   "source": [
    "смотрим на варианты значений D в зависимости от значений С\n",
    "\n",
    "здесь разброса значительно больше, тоже вполне ожидаемо (помним, что работы, сданные в любую дату, зачитываются)\n",
    "также не видно никакой взаимосвязи между высотой рангов обоих метрик"
   ]
  },
  {
   "cell_type": "code",
   "execution_count": 75,
   "metadata": {},
   "outputs": [
    {
     "name": "stdout",
     "output_type": "stream",
     "text": [
      "5    0.248\n",
      "1    0.218\n",
      "4    0.211\n",
      "3    0.174\n",
      "2    0.149\n",
      "Name: d, dtype: float64\n",
      "3    0.464\n",
      "4    0.286\n",
      "2    0.143\n",
      "5    0.107\n",
      "Name: d, dtype: float64\n",
      "4    0.251\n",
      "5    0.202\n",
      "3    0.199\n",
      "1    0.196\n",
      "2    0.151\n",
      "Name: d, dtype: float64\n"
     ]
    }
   ],
   "source": [
    "print(rfm_df[rfm_df.c == 1].d.value_counts(normalize=True).round(3))\n",
    "print(rfm_df[rfm_df.c == 2].d.value_counts(normalize=True).round(3))\n",
    "print(rfm_df[rfm_df.c == 3].d.value_counts(normalize=True).round(3))"
   ]
  },
  {
   "cell_type": "markdown",
   "metadata": {},
   "source": [
    "уже ясно, что за основу будем брать метрики D и S, здесь посмотрим на них подробнее"
   ]
  },
  {
   "cell_type": "code",
   "execution_count": 76,
   "metadata": {},
   "outputs": [
    {
     "name": "stdout",
     "output_type": "stream",
     "text": [
      "5    0.261\n",
      "1    0.219\n",
      "4    0.209\n",
      "3    0.176\n",
      "2    0.135\n",
      "Name: d, dtype: float64\n",
      "4    0.233\n",
      "5    0.226\n",
      "3    0.208\n",
      "2    0.177\n",
      "1    0.155\n",
      "Name: d, dtype: float64\n",
      "4    0.279\n",
      "3    0.210\n",
      "5    0.187\n",
      "1    0.176\n",
      "2    0.148\n",
      "Name: d, dtype: float64\n",
      "4    0.279\n",
      "3    0.235\n",
      "5    0.187\n",
      "2    0.150\n",
      "1    0.150\n",
      "Name: d, dtype: float64\n",
      "1    0.292\n",
      "4    0.239\n",
      "5    0.167\n",
      "3    0.161\n",
      "2    0.141\n",
      "Name: d, dtype: float64\n"
     ]
    }
   ],
   "source": [
    "print(rfm_df[rfm_df.s == 1].d.value_counts(normalize=True).round(3))\n",
    "print(rfm_df[rfm_df.s == 2].d.value_counts(normalize=True).round(3))\n",
    "print(rfm_df[rfm_df.s == 3].d.value_counts(normalize=True).round(3))\n",
    "print(rfm_df[rfm_df.s == 4].d.value_counts(normalize=True).round(3))\n",
    "print(rfm_df[rfm_df.s == 5].d.value_counts(normalize=True).round(3))"
   ]
  },
  {
   "cell_type": "markdown",
   "metadata": {},
   "source": [
    "#### принцип разбивки на сегменты:\n",
    "\n",
    "- champions -- отличники, высокие оценки и быстрые сроки сдачи\n",
    "- promising -- средние сроки сдачи, но высокие оценки. есть, что подтянуть, но результат отличный\n",
    "- average -- \"середнячки\", более-менее хорошие сроки сдачи, но не лучшие оценки\n",
    "- going too fast -- быстрые сроки сдачи, полученные за счет низкого качества работы\n",
    "- great but late -- наоборот, высокие оценки и долгие сроки сдачи. \n",
    "    - альтернативное название -- disorganized geniuses, для способных студентов с проблемой прокрастинации\n",
    "- need attention -- ребята, которых надо спасать, подают надежды, но начинают проваливаться\n",
    "- about to sleep -- ребята, которых надо срочно спасать, средние показатели по скорости, но совсем плохие оценки\n",
    "- hibernating -- \"двоечники\", тут в принципе все понятно"
   ]
  },
  {
   "cell_type": "code",
   "execution_count": 91,
   "metadata": {},
   "outputs": [
    {
     "data": {
      "text/html": [
       "<div>\n",
       "<style scoped>\n",
       "    .dataframe tbody tr th:only-of-type {\n",
       "        vertical-align: middle;\n",
       "    }\n",
       "\n",
       "    .dataframe tbody tr th {\n",
       "        vertical-align: top;\n",
       "    }\n",
       "\n",
       "    .dataframe thead th {\n",
       "        text-align: right;\n",
       "    }\n",
       "</style>\n",
       "<table border=\"1\" class=\"dataframe\">\n",
       "  <thead>\n",
       "    <tr style=\"text-align: right;\">\n",
       "      <th></th>\n",
       "      <th>id_student</th>\n",
       "      <th>mean_date</th>\n",
       "      <th>mean_score</th>\n",
       "      <th>exams_taken</th>\n",
       "      <th>passed</th>\n",
       "      <th>comp_rate</th>\n",
       "      <th>d</th>\n",
       "      <th>s</th>\n",
       "      <th>c</th>\n",
       "      <th>dsc</th>\n",
       "      <th>segment</th>\n",
       "    </tr>\n",
       "  </thead>\n",
       "  <tbody>\n",
       "    <tr>\n",
       "      <th>0</th>\n",
       "      <td>23698</td>\n",
       "      <td>243.0</td>\n",
       "      <td>80.0</td>\n",
       "      <td>1</td>\n",
       "      <td>1</td>\n",
       "      <td>1.0</td>\n",
       "      <td>2</td>\n",
       "      <td>4</td>\n",
       "      <td>3</td>\n",
       "      <td>243</td>\n",
       "      <td>need attention</td>\n",
       "    </tr>\n",
       "    <tr>\n",
       "      <th>1</th>\n",
       "      <td>24213</td>\n",
       "      <td>236.0</td>\n",
       "      <td>58.0</td>\n",
       "      <td>1</td>\n",
       "      <td>1</td>\n",
       "      <td>1.0</td>\n",
       "      <td>4</td>\n",
       "      <td>2</td>\n",
       "      <td>3</td>\n",
       "      <td>423</td>\n",
       "      <td>going too fast</td>\n",
       "    </tr>\n",
       "    <tr>\n",
       "      <th>2</th>\n",
       "      <td>27116</td>\n",
       "      <td>243.0</td>\n",
       "      <td>96.0</td>\n",
       "      <td>1</td>\n",
       "      <td>1</td>\n",
       "      <td>1.0</td>\n",
       "      <td>2</td>\n",
       "      <td>5</td>\n",
       "      <td>3</td>\n",
       "      <td>253</td>\n",
       "      <td>great but late</td>\n",
       "    </tr>\n",
       "    <tr>\n",
       "      <th>3</th>\n",
       "      <td>28046</td>\n",
       "      <td>237.0</td>\n",
       "      <td>40.0</td>\n",
       "      <td>1</td>\n",
       "      <td>1</td>\n",
       "      <td>1.0</td>\n",
       "      <td>4</td>\n",
       "      <td>1</td>\n",
       "      <td>3</td>\n",
       "      <td>413</td>\n",
       "      <td>going too fast</td>\n",
       "    </tr>\n",
       "    <tr>\n",
       "      <th>4</th>\n",
       "      <td>28787</td>\n",
       "      <td>243.0</td>\n",
       "      <td>44.0</td>\n",
       "      <td>1</td>\n",
       "      <td>1</td>\n",
       "      <td>1.0</td>\n",
       "      <td>2</td>\n",
       "      <td>1</td>\n",
       "      <td>3</td>\n",
       "      <td>213</td>\n",
       "      <td>hibernating</td>\n",
       "    </tr>\n",
       "  </tbody>\n",
       "</table>\n",
       "</div>"
      ],
      "text/plain": [
       "   id_student  mean_date  mean_score  exams_taken  passed  comp_rate  d  s  c  \\\n",
       "0       23698      243.0        80.0            1       1        1.0  2  4  3   \n",
       "1       24213      236.0        58.0            1       1        1.0  4  2  3   \n",
       "2       27116      243.0        96.0            1       1        1.0  2  5  3   \n",
       "3       28046      237.0        40.0            1       1        1.0  4  1  3   \n",
       "4       28787      243.0        44.0            1       1        1.0  2  1  3   \n",
       "\n",
       "   dsc         segment  \n",
       "0  243  need attention  \n",
       "1  423  going too fast  \n",
       "2  253  great but late  \n",
       "3  413  going too fast  \n",
       "4  213     hibernating  "
      ]
     },
     "execution_count": 91,
     "metadata": {},
     "output_type": "execute_result"
    }
   ],
   "source": [
    "segt_map = {\n",
    "    r'[1-2][1-2]': 'hibernating',\n",
    "    r'3[1-2]': 'about to sleep',\n",
    "    r'[1-2][3-4]': 'need attention',\n",
    "    r'[1-2]5': 'great but late',\n",
    "    r'[4-5][1-2]': 'going too fast',\n",
    "    r'[3-5]3': 'average',\n",
    "    r'[3-4][4-5]': 'promising',\n",
    "    r'5[4-5]': 'champions'\n",
    "}\n",
    "\n",
    "rfm_df['segment'] = rfm_df['d'].map(str) + rfm_df['s'].map(str)\n",
    "rfm_df['segment'] = rfm_df['segment'].replace(segt_map, regex=True)\n",
    "rfm_df.head()"
   ]
  },
  {
   "cell_type": "markdown",
   "metadata": {},
   "source": [
    "смотрим на долю каждого сегмента в процентах\n",
    " \n",
    " выводы не очень радостные -- студентов с худшими показателями в два раза больше, чем с лучшими\n",
    " ожидаемо довольно большая часть студентов со средними и средне-хорошими оценками и сроками сдачи"
   ]
  },
  {
   "cell_type": "code",
   "execution_count": 85,
   "metadata": {},
   "outputs": [
    {
     "data": {
      "text/plain": [
       "going too fast    19.7\n",
       "promising         17.8\n",
       "hibernating       14.6\n",
       "average           12.5\n",
       "need attention    11.8\n",
       "great but late     8.5\n",
       "about to sleep     8.2\n",
       "champions          6.9\n",
       "Name: segment, dtype: float64"
      ]
     },
     "execution_count": 85,
     "metadata": {},
     "output_type": "execute_result"
    }
   ],
   "source": [
    "rfm_df.segment.value_counts(normalize=True).round(3).mul(100)"
   ]
  },
  {
   "cell_type": "markdown",
   "metadata": {},
   "source": [
    "делаем дф для красивого сортированного графика про сегменты\n",
    "\n"
   ]
  },
  {
   "cell_type": "code",
   "execution_count": 79,
   "metadata": {},
   "outputs": [],
   "source": [
    "rfm_df_sorted = rfm_df.groupby('segment', as_index=False) \\\n",
    "    .agg({'id_student':'count'}) \\\n",
    "    .sort_values('id_student', ascending=False) \n",
    "rfm_df_sorted['percent'] = (rfm_df_sorted.id_student / rfm_df_sorted.id_student.sum() * 100).round(2)"
   ]
  },
  {
   "cell_type": "markdown",
   "metadata": {},
   "source": [
    "красивый график для наглядности долей всех сегментов\n",
    "\n"
   ]
  },
  {
   "cell_type": "code",
   "execution_count": 80,
   "metadata": {},
   "outputs": [
    {
     "data": {
      "image/png": "[encoded data removed]",
      "text/plain": [
       "<Figure size 576x360 with 1 Axes>"
      ]
     },
     "metadata": {},
     "output_type": "display_data"
    }
   ],
   "source": [
    "sns.barplot(data=rfm_df_sorted, y=rfm_df_sorted.segment, x=rfm_df_sorted.id_student, orient='h')\n",
    "plt.xlabel('students')\n",
    "sns.set(rc={'figure.figsize': (9, 6), 'grid.linestyle': ':'}, style='whitegrid')"
   ]
  }
 ],
 "metadata": {
  "kernelspec": {
   "display_name": "Python 3 (ipykernel)",
   "language": "python",
   "name": "python3"
  },
  "language_info": {
   "codemirror_mode": {
    "name": "ipython",
    "version": 3
   },
   "file_extension": ".py",
   "mimetype": "text/x-python",
   "name": "python",
   "nbconvert_exporter": "python",
   "pygments_lexer": "ipython3",
   "version": "3.9.13"
  }
 },
 "nbformat": 4,
 "nbformat_minor": 4
}
